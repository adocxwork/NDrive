{
 "cells": [
  {
   "cell_type": "markdown",
   "id": "e4e776dd-533a-4809-9be3-f904f3c12ba8",
   "metadata": {},
   "source": [
    "# Lab3 - 1"
   ]
  },
  {
   "cell_type": "code",
   "execution_count": 2,
   "id": "04400382-9a80-40e2-973a-8e84a685ee23",
   "metadata": {},
   "outputs": [],
   "source": [
    "import pandas as pd"
   ]
  },
  {
   "cell_type": "code",
   "execution_count": 2,
   "id": "5a9c81ac-cb39-4559-96c6-2564bef207e3",
   "metadata": {},
   "outputs": [
    {
     "data": {
      "text/plain": [
       "0    1\n",
       "1    2\n",
       "2    3\n",
       "3    4\n",
       "4    5\n",
       "dtype: int64"
      ]
     },
     "execution_count": 2,
     "metadata": {},
     "output_type": "execute_result"
    }
   ],
   "source": [
    "# create a series\n",
    "ser = pd.Series([1,2,3,4,5])\n",
    "ser"
   ]
  },
  {
   "cell_type": "code",
   "execution_count": 3,
   "id": "2888e004-85b0-47dc-99c5-6d1548452f52",
   "metadata": {},
   "outputs": [
    {
     "data": {
      "text/plain": [
       "RangeIndex(start=0, stop=5, step=1)"
      ]
     },
     "execution_count": 3,
     "metadata": {},
     "output_type": "execute_result"
    }
   ],
   "source": [
    "ser.index"
   ]
  },
  {
   "cell_type": "code",
   "execution_count": 4,
   "id": "1c297dcb-6f54-4dd7-a73b-fa7dd1d44fec",
   "metadata": {},
   "outputs": [
    {
     "ename": "KeyError",
     "evalue": "'b'",
     "output_type": "error",
     "traceback": [
      "\u001b[1;31m---------------------------------------------------------------------------\u001b[0m",
      "\u001b[1;31mKeyError\u001b[0m                                  Traceback (most recent call last)",
      "Cell \u001b[1;32mIn[4], line 1\u001b[0m\n\u001b[1;32m----> 1\u001b[0m \u001b[43mser\u001b[49m\u001b[43m[\u001b[49m\u001b[38;5;124;43m'\u001b[39;49m\u001b[38;5;124;43mb\u001b[39;49m\u001b[38;5;124;43m'\u001b[39;49m\u001b[43m]\u001b[49m\n",
      "File \u001b[1;32mC:\\Python310\\lib\\site-packages\\pandas\\core\\series.py:1121\u001b[0m, in \u001b[0;36mSeries.__getitem__\u001b[1;34m(self, key)\u001b[0m\n\u001b[0;32m   1118\u001b[0m     \u001b[38;5;28;01mreturn\u001b[39;00m \u001b[38;5;28mself\u001b[39m\u001b[38;5;241m.\u001b[39m_values[key]\n\u001b[0;32m   1120\u001b[0m \u001b[38;5;28;01melif\u001b[39;00m key_is_scalar:\n\u001b[1;32m-> 1121\u001b[0m     \u001b[38;5;28;01mreturn\u001b[39;00m \u001b[38;5;28;43mself\u001b[39;49m\u001b[38;5;241;43m.\u001b[39;49m\u001b[43m_get_value\u001b[49m\u001b[43m(\u001b[49m\u001b[43mkey\u001b[49m\u001b[43m)\u001b[49m\n\u001b[0;32m   1123\u001b[0m \u001b[38;5;66;03m# Convert generator to list before going through hashable part\u001b[39;00m\n\u001b[0;32m   1124\u001b[0m \u001b[38;5;66;03m# (We will iterate through the generator there to check for slices)\u001b[39;00m\n\u001b[0;32m   1125\u001b[0m \u001b[38;5;28;01mif\u001b[39;00m is_iterator(key):\n",
      "File \u001b[1;32mC:\\Python310\\lib\\site-packages\\pandas\\core\\series.py:1237\u001b[0m, in \u001b[0;36mSeries._get_value\u001b[1;34m(self, label, takeable)\u001b[0m\n\u001b[0;32m   1234\u001b[0m     \u001b[38;5;28;01mreturn\u001b[39;00m \u001b[38;5;28mself\u001b[39m\u001b[38;5;241m.\u001b[39m_values[label]\n\u001b[0;32m   1236\u001b[0m \u001b[38;5;66;03m# Similar to Index.get_value, but we do not fall back to positional\u001b[39;00m\n\u001b[1;32m-> 1237\u001b[0m loc \u001b[38;5;241m=\u001b[39m \u001b[38;5;28;43mself\u001b[39;49m\u001b[38;5;241;43m.\u001b[39;49m\u001b[43mindex\u001b[49m\u001b[38;5;241;43m.\u001b[39;49m\u001b[43mget_loc\u001b[49m\u001b[43m(\u001b[49m\u001b[43mlabel\u001b[49m\u001b[43m)\u001b[49m\n\u001b[0;32m   1239\u001b[0m \u001b[38;5;28;01mif\u001b[39;00m is_integer(loc):\n\u001b[0;32m   1240\u001b[0m     \u001b[38;5;28;01mreturn\u001b[39;00m \u001b[38;5;28mself\u001b[39m\u001b[38;5;241m.\u001b[39m_values[loc]\n",
      "File \u001b[1;32mC:\\Python310\\lib\\site-packages\\pandas\\core\\indexes\\range.py:417\u001b[0m, in \u001b[0;36mRangeIndex.get_loc\u001b[1;34m(self, key)\u001b[0m\n\u001b[0;32m    415\u001b[0m         \u001b[38;5;28;01mraise\u001b[39;00m \u001b[38;5;167;01mKeyError\u001b[39;00m(key) \u001b[38;5;28;01mfrom\u001b[39;00m \u001b[38;5;21;01merr\u001b[39;00m\n\u001b[0;32m    416\u001b[0m \u001b[38;5;28;01mif\u001b[39;00m \u001b[38;5;28misinstance\u001b[39m(key, Hashable):\n\u001b[1;32m--> 417\u001b[0m     \u001b[38;5;28;01mraise\u001b[39;00m \u001b[38;5;167;01mKeyError\u001b[39;00m(key)\n\u001b[0;32m    418\u001b[0m \u001b[38;5;28mself\u001b[39m\u001b[38;5;241m.\u001b[39m_check_indexing_error(key)\n\u001b[0;32m    419\u001b[0m \u001b[38;5;28;01mraise\u001b[39;00m \u001b[38;5;167;01mKeyError\u001b[39;00m(key)\n",
      "\u001b[1;31mKeyError\u001b[0m: 'b'"
     ]
    }
   ],
   "source": [
    "ser['b']"
   ]
  },
  {
   "cell_type": "code",
   "execution_count": 5,
   "id": "691c76f1-1f23-4568-b11e-609e53847493",
   "metadata": {},
   "outputs": [
    {
     "data": {
      "text/plain": [
       "monday       142.75\n",
       "tuesday      115.02\n",
       "wednesday    114.50\n",
       "Thursday     116.00\n",
       "dtype: float64"
      ]
     },
     "execution_count": 5,
     "metadata": {},
     "output_type": "execute_result"
    }
   ],
   "source": [
    "# creating series from dictionary\n",
    "dict_1 = {\"monday\": 142.75, \"tuesday\": 115.02, \"wednesday\": 114.5, \"Thursday\": 116}\n",
    "ser = pd.Series(dict_1)\n",
    "ser"
   ]
  },
  {
   "cell_type": "code",
   "execution_count": 6,
   "id": "9ce5a87e-4843-4407-baaa-5c9f5f60beb9",
   "metadata": {},
   "outputs": [
    {
     "data": {
      "text/plain": [
       "np.float64(114.5)"
      ]
     },
     "execution_count": 6,
     "metadata": {},
     "output_type": "execute_result"
    }
   ],
   "source": [
    "ser['wednesday']"
   ]
  },
  {
   "cell_type": "code",
   "execution_count": 3,
   "id": "c22dbe58-9a94-4fe5-bce8-0bb92fa221d9",
   "metadata": {},
   "outputs": [],
   "source": [
    "import numpy as np"
   ]
  },
  {
   "cell_type": "code",
   "execution_count": 4,
   "id": "0769ec2a-3a70-4a03-924c-09d2a2c4b76f",
   "metadata": {},
   "outputs": [],
   "source": [
    "arr = np.array([12,13,10,11,14,15,9])"
   ]
  },
  {
   "cell_type": "code",
   "execution_count": 5,
   "id": "3086e5dd-8e94-47dd-9b13-12433bc9492d",
   "metadata": {},
   "outputs": [],
   "source": [
    "ser = pd.Series(arr)"
   ]
  },
  {
   "cell_type": "code",
   "execution_count": 6,
   "id": "3701490d-741b-4e2e-8dbc-af6104c15308",
   "metadata": {},
   "outputs": [
    {
     "data": {
      "text/plain": [
       "0    12\n",
       "1    13\n",
       "2    10\n",
       "3    11\n",
       "4    14\n",
       "5    15\n",
       "6     9\n",
       "dtype: int64"
      ]
     },
     "execution_count": 6,
     "metadata": {},
     "output_type": "execute_result"
    }
   ],
   "source": [
    "ser"
   ]
  },
  {
   "cell_type": "code",
   "execution_count": 7,
   "id": "831c6224-c007-4dd8-adad-2ea1bf961139",
   "metadata": {},
   "outputs": [
    {
     "name": "stdout",
     "output_type": "stream",
     "text": [
      "ser.count() =  7\n",
      "ser.mean() =  12.0\n",
      "ser.median() =  12.0\n",
      "ser.max() =  15\n"
     ]
    }
   ],
   "source": [
    "print('ser.count() = ', ser.count())\n",
    "print('ser.mean() = ', ser.mean())\n",
    "print('ser.median() = ', ser.median())\n",
    "print('ser.max() = ', ser.max())"
   ]
  },
  {
   "cell_type": "code",
   "execution_count": 9,
   "id": "61b8337f-4ba5-4951-afb8-70f6d910248d",
   "metadata": {},
   "outputs": [
    {
     "data": {
      "text/plain": [
       "count     7.000000\n",
       "mean     12.000000\n",
       "std       2.160247\n",
       "min       9.000000\n",
       "25%      10.500000\n",
       "50%      12.000000\n",
       "75%      13.500000\n",
       "max      15.000000\n",
       "dtype: float64"
      ]
     },
     "execution_count": 9,
     "metadata": {},
     "output_type": "execute_result"
    }
   ],
   "source": [
    "#stats of the data\n",
    "ser.describe()"
   ]
  },
  {
   "cell_type": "code",
   "execution_count": 12,
   "id": "0f92d3f6-6e88-4ba3-82d8-ca56851c478f",
   "metadata": {},
   "outputs": [
    {
     "name": "stdout",
     "output_type": "stream",
     "text": [
      "ser.argmin() =  6\n",
      "ser.argmax() =  5\n",
      "ser.argsort() = \n",
      "0    6\n",
      "1    2\n",
      "2    3\n",
      "3    0\n",
      "4    1\n",
      "5    4\n",
      "6    5\n",
      "dtype: int64\n"
     ]
    }
   ],
   "source": [
    "print('ser.argmin() = ', ser.argmin())\n",
    "print('ser.argmax() = ', ser.argmax())\n",
    "print('ser.argsort() = ')\n",
    "print(ser.argsort())"
   ]
  },
  {
   "cell_type": "code",
   "execution_count": 13,
   "id": "ebfde7c8-8ace-4b53-b277-56c20b7f8a97",
   "metadata": {},
   "outputs": [
    {
     "data": {
      "text/plain": [
       "a    10.0\n",
       "b    21.0\n",
       "c     5.0\n",
       "d    24.0\n",
       "e     NaN\n",
       "f     NaN\n",
       "g    17.0\n",
       "dtype: float64"
      ]
     },
     "execution_count": 13,
     "metadata": {},
     "output_type": "execute_result"
    }
   ],
   "source": [
    "d = {'a':10, 'b':21, 'c':5, 'd':24, 'g':17}\n",
    "ser = pd.Series(d, index=['a', 'b', 'c', 'd', 'e', 'f', 'g'])\n",
    "ser"
   ]
  },
  {
   "cell_type": "code",
   "execution_count": 14,
   "id": "cf9e18d4-7f6c-4cfe-8791-6590a61d0995",
   "metadata": {},
   "outputs": [
    {
     "name": "stdout",
     "output_type": "stream",
     "text": [
      "a    False\n",
      "b    False\n",
      "c    False\n",
      "d    False\n",
      "e     True\n",
      "f     True\n",
      "g    False\n",
      "dtype: bool\n",
      "-------------\n",
      "2\n",
      "-------------\n",
      "2\n"
     ]
    }
   ],
   "source": [
    "print(ser.isna())\n",
    "print('-------------')\n",
    "print(ser.isna().sum())\n",
    "print('-------------')\n",
    "print(ser.isnull().sum())"
   ]
  },
  {
   "cell_type": "code",
   "execution_count": 15,
   "id": "ea9b8ece-509b-434f-a063-0a3d2e2a2e55",
   "metadata": {},
   "outputs": [
    {
     "data": {
      "text/plain": [
       "a    10.0\n",
       "b    21.0\n",
       "c     5.0\n",
       "d    24.0\n",
       "e     5.0\n",
       "f     5.0\n",
       "g    17.0\n",
       "dtype: float64"
      ]
     },
     "execution_count": 15,
     "metadata": {},
     "output_type": "execute_result"
    }
   ],
   "source": [
    "constant_value = 5\n",
    "ser.fillna(constant_value)"
   ]
  },
  {
   "cell_type": "code",
   "execution_count": 16,
   "id": "855fe575-a44e-4e5e-9a0d-0a5f2dc79922",
   "metadata": {},
   "outputs": [
    {
     "name": "stdout",
     "output_type": "stream",
     "text": [
      "original\n",
      " a    10.0\n",
      "b    21.0\n",
      "c     5.0\n",
      "d    24.0\n",
      "e     NaN\n",
      "f     NaN\n",
      "g    17.0\n",
      "dtype: float64\n",
      "*************\n",
      " a    10.0\n",
      "b    21.0\n",
      "c     5.0\n",
      "d    24.0\n",
      "e    24.0\n",
      "f    24.0\n",
      "g    17.0\n",
      "dtype: float64 \n",
      "************\n",
      "filling limited values\n",
      "a    10.0\n",
      "b    21.0\n",
      "c     5.0\n",
      "d    24.0\n",
      "e    24.0\n",
      "f     NaN\n",
      "g    17.0\n",
      "dtype: float64\n"
     ]
    }
   ],
   "source": [
    "# forward filling\n",
    "print('original\\n', ser)\n",
    "print('*************\\n', ser.ffill(), '\\n************')\n",
    "print('filling limited values')\n",
    "print(ser.ffill(limit=1))"
   ]
  },
  {
   "cell_type": "code",
   "execution_count": 17,
   "id": "dc1f2523-09d6-459a-afc2-e47663ec4fd2",
   "metadata": {},
   "outputs": [
    {
     "data": {
      "text/plain": [
       "a    10.0\n",
       "b    21.0\n",
       "c     5.0\n",
       "d    24.0\n",
       "e    17.0\n",
       "f    17.0\n",
       "g    17.0\n",
       "dtype: float64"
      ]
     },
     "execution_count": 17,
     "metadata": {},
     "output_type": "execute_result"
    }
   ],
   "source": [
    "# backward filling\n",
    "ser.bfill()"
   ]
  },
  {
   "cell_type": "markdown",
   "id": "c07d9397-2b72-4eed-84a4-7b4c3e02b0e6",
   "metadata": {},
   "source": [
    "## Look at the Nan Values"
   ]
  },
  {
   "cell_type": "code",
   "execution_count": 18,
   "id": "7bd076d6-7ec6-4ba9-b1a4-779a50c37cb5",
   "metadata": {},
   "outputs": [
    {
     "data": {
      "text/plain": [
       "0    100.0\n",
       "1    200.0\n",
       "2      NaN\n",
       "3    330.0\n",
       "4    450.0\n",
       "dtype: float64"
      ]
     },
     "execution_count": 18,
     "metadata": {},
     "output_type": "execute_result"
    }
   ],
   "source": [
    "d = {0:100, 1:200, 3:330, 4:450}\n",
    "ser2 = pd.Series(d, index=range(0,5))\n",
    "ser2"
   ]
  },
  {
   "cell_type": "markdown",
   "id": "dcb09f04-e344-4f14-b95c-86eb6c58758b",
   "metadata": {},
   "source": [
    "### remove the row containing Nan Value"
   ]
  },
  {
   "cell_type": "code",
   "execution_count": 19,
   "id": "8ba6bc4f-6ccb-48f5-a78d-71681eb2851e",
   "metadata": {},
   "outputs": [
    {
     "data": {
      "text/plain": [
       "0    100.0\n",
       "1    200.0\n",
       "3    330.0\n",
       "4    450.0\n",
       "dtype: float64"
      ]
     },
     "execution_count": 19,
     "metadata": {},
     "output_type": "execute_result"
    }
   ],
   "source": [
    "ser2.dropna()"
   ]
  },
  {
   "cell_type": "code",
   "execution_count": 20,
   "id": "0eb21f4a-f746-4ee0-b1a8-921513a40009",
   "metadata": {},
   "outputs": [
    {
     "data": {
      "text/plain": [
       "10    3\n",
       "20    2\n",
       "15    1\n",
       "12    1\n",
       "18    1\n",
       "21    1\n",
       "22    1\n",
       "Name: count, dtype: int64"
      ]
     },
     "execution_count": 20,
     "metadata": {},
     "output_type": "execute_result"
    }
   ],
   "source": [
    "ser = pd.Series([10,20,10,15,10,20,12,18,21,22])\n",
    "ser.value_counts()"
   ]
  },
  {
   "cell_type": "markdown",
   "id": "ac7b7700-2b34-43ff-a0f5-8ba7db794da8",
   "metadata": {},
   "source": [
    "## Exercise 1-a"
   ]
  },
  {
   "cell_type": "code",
   "execution_count": 6,
   "id": "6ad01127-48e3-410d-a7db-7fa9d89dc511",
   "metadata": {},
   "outputs": [],
   "source": [
    "arr = np.array([[1,2,3],[4,5,6],[7,8,9]])"
   ]
  },
  {
   "cell_type": "code",
   "execution_count": 7,
   "id": "5120900e-35cd-4812-9f4d-6751b6cb38a6",
   "metadata": {},
   "outputs": [],
   "source": [
    "# 1. create series using above array\n",
    "ser = pd.Series(arr.flatten())"
   ]
  },
  {
   "cell_type": "code",
   "execution_count": 41,
   "id": "6c0ffa2d-b298-47ce-8866-0fe60eae91b3",
   "metadata": {},
   "outputs": [
    {
     "data": {
      "text/plain": [
       "0    1\n",
       "1    2\n",
       "2    3\n",
       "3    4\n",
       "4    5\n",
       "5    6\n",
       "6    7\n",
       "7    8\n",
       "8    9\n",
       "dtype: int64"
      ]
     },
     "execution_count": 41,
     "metadata": {},
     "output_type": "execute_result"
    }
   ],
   "source": [
    "ser"
   ]
  },
  {
   "cell_type": "code",
   "execution_count": 45,
   "id": "4603e7a6-6a07-40a9-bbd0-b95280ee5d59",
   "metadata": {},
   "outputs": [
    {
     "data": {
      "text/plain": [
       "233B600    10\n",
       "233B601    20\n",
       "233B602    10\n",
       "233B603    15\n",
       "233B604    10\n",
       "233B605    20\n",
       "233B606    12\n",
       "233B607    18\n",
       "233B608    21\n",
       "233B609    22\n",
       "dtype: int64"
      ]
     },
     "execution_count": 45,
     "metadata": {},
     "output_type": "execute_result"
    }
   ],
   "source": [
    "# 2. create series to store students evroll no as index and marks as values\n",
    "er = np.array(['233B600', '233B601', '233B602','233B603','233B604','233B605','233B606','233B607','233B608','233B609'])\n",
    "stu = pd.Series([10,20,10,15,10,20,12,18,21,22], index = er)\n",
    "stu"
   ]
  },
  {
   "cell_type": "code",
   "execution_count": 56,
   "id": "c82acad4-41e3-42a4-b854-7dfccdf7d8f8",
   "metadata": {},
   "outputs": [
    {
     "name": "stdout",
     "output_type": "stream",
     "text": [
      "Index([10, 20, 15, 12, 18, 21, 22], dtype='int64')\n"
     ]
    }
   ],
   "source": [
    "# 3. print the students who obtain the same marks\n",
    "print(stu.value_counts().keys())"
   ]
  },
  {
   "cell_type": "code",
   "execution_count": 50,
   "id": "50100384-27e2-42b8-84a1-6cc96ed9631d",
   "metadata": {},
   "outputs": [
    {
     "data": {
      "text/plain": [
       "'233B600'"
      ]
     },
     "execution_count": 50,
     "metadata": {},
     "output_type": "execute_result"
    }
   ],
   "source": [
    "stu.index[0]"
   ]
  },
  {
   "cell_type": "code",
   "execution_count": 57,
   "id": "ed4c3029-47e1-4f6a-8194-d841465b2f19",
   "metadata": {},
   "outputs": [
    {
     "data": {
      "text/plain": [
       "np.int64(3)"
      ]
     },
     "execution_count": 57,
     "metadata": {},
     "output_type": "execute_result"
    }
   ],
   "source": [
    "stu.value_counts()[10]"
   ]
  },
  {
   "cell_type": "code",
   "execution_count": 59,
   "id": "123504dd-b110-459c-882d-c2ec1864e8e8",
   "metadata": {},
   "outputs": [
    {
     "name": "stdout",
     "output_type": "stream",
     "text": [
      "10\n",
      "20\n",
      "15\n",
      "12\n",
      "18\n",
      "21\n",
      "22\n"
     ]
    }
   ],
   "source": [
    "for i in stu.value_counts().keys():\n",
    "    print(i)"
   ]
  },
  {
   "cell_type": "code",
   "execution_count": 70,
   "id": "d725903b-d950-456c-b2a4-87842d8ece3a",
   "metadata": {},
   "outputs": [
    {
     "data": {
      "text/plain": [
       "233B600    10\n",
       "233B601    20\n",
       "233B602    10\n",
       "233B603    15\n",
       "233B604    10\n",
       "233B605    20\n",
       "233B606    12\n",
       "233B607    18\n",
       "233B608    21\n",
       "233B609    22\n",
       "dtype: int64"
      ]
     },
     "execution_count": 70,
     "metadata": {},
     "output_type": "execute_result"
    }
   ],
   "source": [
    "stu"
   ]
  }
 ],
 "metadata": {
  "kernelspec": {
   "display_name": "Python 3 (ipykernel)",
   "language": "python",
   "name": "python3"
  },
  "language_info": {
   "codemirror_mode": {
    "name": "ipython",
    "version": 3
   },
   "file_extension": ".py",
   "mimetype": "text/x-python",
   "name": "python",
   "nbconvert_exporter": "python",
   "pygments_lexer": "ipython3",
   "version": "3.10.11"
  }
 },
 "nbformat": 4,
 "nbformat_minor": 5
}
