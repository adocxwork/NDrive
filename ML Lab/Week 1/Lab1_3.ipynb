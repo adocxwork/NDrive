{
 "cells": [
  {
   "cell_type": "code",
   "execution_count": 2,
   "id": "b8c14ff1-fe99-4b3a-8069-feec06ee96f1",
   "metadata": {},
   "outputs": [],
   "source": [
    "import numpy as np"
   ]
  },
  {
   "cell_type": "code",
   "execution_count": 3,
   "id": "c03ba00e-c40d-4ebf-8418-d75b24923075",
   "metadata": {},
   "outputs": [],
   "source": [
    "arr1 = np.arange(1,10).reshape(3,3)"
   ]
  },
  {
   "cell_type": "code",
   "execution_count": 4,
   "id": "992ee90a-eb8a-4ddf-a6fd-de37d78b30f4",
   "metadata": {},
   "outputs": [
    {
     "name": "stdout",
     "output_type": "stream",
     "text": [
      "[[1 2 3]\n",
      " [4 5 6]\n",
      " [7 8 9]]\n"
     ]
    }
   ],
   "source": [
    "print(arr1)"
   ]
  },
  {
   "cell_type": "code",
   "execution_count": 5,
   "id": "1969238b-4727-46ca-9cb1-5f7adafd9b87",
   "metadata": {},
   "outputs": [],
   "source": [
    "arr2 = np.arange(10, 13).reshape(1,3)"
   ]
  },
  {
   "cell_type": "code",
   "execution_count": 6,
   "id": "4793cb30-4b7a-4233-9807-5a30d10dfc09",
   "metadata": {},
   "outputs": [
    {
     "name": "stdout",
     "output_type": "stream",
     "text": [
      "[[10 11 12]]\n"
     ]
    }
   ],
   "source": [
    "print(arr2)"
   ]
  },
  {
   "cell_type": "code",
   "execution_count": 7,
   "id": "824108f1-928c-4ca1-ab4e-d957d6a165d7",
   "metadata": {},
   "outputs": [
    {
     "ename": "ValueError",
     "evalue": "all the input array dimensions except for the concatenation axis must match exactly, but along dimension 0, the array at index 0 has size 3 and the array at index 1 has size 1",
     "output_type": "error",
     "traceback": [
      "\u001b[1;31m---------------------------------------------------------------------------\u001b[0m",
      "\u001b[1;31mValueError\u001b[0m                                Traceback (most recent call last)",
      "Cell \u001b[1;32mIn[7], line 2\u001b[0m\n\u001b[0;32m      1\u001b[0m \u001b[38;5;66;03m#concatenation\u001b[39;00m\n\u001b[1;32m----> 2\u001b[0m crr \u001b[38;5;241m=\u001b[39m \u001b[43mnp\u001b[49m\u001b[38;5;241;43m.\u001b[39;49m\u001b[43mconcatenate\u001b[49m\u001b[43m(\u001b[49m\u001b[43m[\u001b[49m\u001b[43marr1\u001b[49m\u001b[43m,\u001b[49m\u001b[43m \u001b[49m\u001b[43marr2\u001b[49m\u001b[43m]\u001b[49m\u001b[43m,\u001b[49m\u001b[43m \u001b[49m\u001b[43maxis\u001b[49m\u001b[38;5;241;43m=\u001b[39;49m\u001b[38;5;241;43m1\u001b[39;49m\u001b[43m)\u001b[49m\n",
      "\u001b[1;31mValueError\u001b[0m: all the input array dimensions except for the concatenation axis must match exactly, but along dimension 0, the array at index 0 has size 3 and the array at index 1 has size 1"
     ]
    }
   ],
   "source": [
    "#concatenation\n",
    "crr = np.concatenate([arr1, arr2], axis=1)"
   ]
  },
  {
   "cell_type": "code",
   "execution_count": 8,
   "id": "8f200c84-7d16-4789-8a5c-ab4cc37f6ddf",
   "metadata": {},
   "outputs": [],
   "source": [
    "crr = np.concatenate([arr1, arr2.T], axis=1)"
   ]
  },
  {
   "cell_type": "code",
   "execution_count": 9,
   "id": "4912912a-3727-47bd-a6b0-c44a8e5f823e",
   "metadata": {},
   "outputs": [
    {
     "name": "stdout",
     "output_type": "stream",
     "text": [
      "[[ 1  2  3 10]\n",
      " [ 4  5  6 11]\n",
      " [ 7  8  9 12]]\n"
     ]
    }
   ],
   "source": [
    "print(crr)"
   ]
  },
  {
   "cell_type": "code",
   "execution_count": 17,
   "id": "20e08698-f1d2-4409-ab75-7460a93829b2",
   "metadata": {},
   "outputs": [
    {
     "data": {
      "text/plain": [
       "array([ 4,  5,  6, 11])"
      ]
     },
     "execution_count": 17,
     "metadata": {},
     "output_type": "execute_result"
    }
   ],
   "source": [
    "crr[1:][0]"
   ]
  },
  {
   "cell_type": "code",
   "execution_count": 18,
   "id": "62175882-37ca-45db-981c-ba35543667f5",
   "metadata": {},
   "outputs": [
    {
     "data": {
      "text/plain": [
       "array([[ 1,  2,  3, 10],\n",
       "       [ 4,  5,  6, 11],\n",
       "       [ 7,  8,  9, 12]])"
      ]
     },
     "execution_count": 18,
     "metadata": {},
     "output_type": "execute_result"
    }
   ],
   "source": [
    "crr[:,:]"
   ]
  },
  {
   "cell_type": "code",
   "execution_count": 19,
   "id": "4b64e664-c76f-4390-8346-ed0ea0d4ac99",
   "metadata": {},
   "outputs": [
    {
     "data": {
      "text/plain": [
       "array([[ 5,  6, 11],\n",
       "       [ 8,  9, 12]])"
      ]
     },
     "execution_count": 19,
     "metadata": {},
     "output_type": "execute_result"
    }
   ],
   "source": [
    "crr[1:,1:]"
   ]
  },
  {
   "cell_type": "code",
   "execution_count": 23,
   "id": "a2e92e99-0d64-461d-a255-1c375a786321",
   "metadata": {},
   "outputs": [
    {
     "data": {
      "text/plain": [
       "array([1, 4, 7])"
      ]
     },
     "execution_count": 23,
     "metadata": {},
     "output_type": "execute_result"
    }
   ],
   "source": [
    "crr[:,0]"
   ]
  },
  {
   "cell_type": "code",
   "execution_count": 24,
   "id": "1f27b100-08dc-4489-938b-f59e6ec55904",
   "metadata": {},
   "outputs": [
    {
     "data": {
      "text/plain": [
       "array([2, 5, 8])"
      ]
     },
     "execution_count": 24,
     "metadata": {},
     "output_type": "execute_result"
    }
   ],
   "source": [
    "crr[:,1]"
   ]
  },
  {
   "cell_type": "code",
   "execution_count": 25,
   "id": "1ba48095-94a2-45bd-80c8-0f1c98b62073",
   "metadata": {},
   "outputs": [
    {
     "data": {
      "text/plain": [
       "array([3, 6, 9])"
      ]
     },
     "execution_count": 25,
     "metadata": {},
     "output_type": "execute_result"
    }
   ],
   "source": [
    "crr[:,2]"
   ]
  },
  {
   "cell_type": "code",
   "execution_count": 26,
   "id": "23f490d7-b5f3-4b3d-865a-af9a39268b6b",
   "metadata": {},
   "outputs": [
    {
     "data": {
      "text/plain": [
       "array([[ 1,  2,  3, 10],\n",
       "       [ 4,  5,  6, 11],\n",
       "       [ 7,  8,  9, 12]])"
      ]
     },
     "execution_count": 26,
     "metadata": {},
     "output_type": "execute_result"
    }
   ],
   "source": [
    "crr"
   ]
  },
  {
   "cell_type": "code",
   "execution_count": 27,
   "id": "2992e0e7-52f4-4719-a237-dab558b15ed1",
   "metadata": {},
   "outputs": [],
   "source": [
    "crr[2,:]=10"
   ]
  },
  {
   "cell_type": "code",
   "execution_count": 28,
   "id": "9233deaa-6d90-4563-bed6-d740ceca1ff4",
   "metadata": {},
   "outputs": [
    {
     "data": {
      "text/plain": [
       "array([[ 1,  2,  3, 10],\n",
       "       [ 4,  5,  6, 11],\n",
       "       [10, 10, 10, 10]])"
      ]
     },
     "execution_count": 28,
     "metadata": {},
     "output_type": "execute_result"
    }
   ],
   "source": [
    "crr"
   ]
  },
  {
   "cell_type": "code",
   "execution_count": 29,
   "id": "0214cdcf-ec7c-4d4c-bd10-2cb990b15621",
   "metadata": {},
   "outputs": [],
   "source": [
    "crr[:,2] = 7"
   ]
  },
  {
   "cell_type": "code",
   "execution_count": 30,
   "id": "53ba86ca-7c83-4483-b117-42efd417a1d5",
   "metadata": {},
   "outputs": [
    {
     "data": {
      "text/plain": [
       "array([[ 1,  2,  7, 10],\n",
       "       [ 4,  5,  7, 11],\n",
       "       [10, 10,  7, 10]])"
      ]
     },
     "execution_count": 30,
     "metadata": {},
     "output_type": "execute_result"
    }
   ],
   "source": [
    "crr"
   ]
  },
  {
   "cell_type": "code",
   "execution_count": null,
   "id": "d4ddeb2f-d98b-407e-9a02-5ce1e5f96f50",
   "metadata": {},
   "outputs": [],
   "source": [
    "arr11 = np.range"
   ]
  }
 ],
 "metadata": {
  "kernelspec": {
   "display_name": "Python 3 (ipykernel)",
   "language": "python",
   "name": "python3"
  },
  "language_info": {
   "codemirror_mode": {
    "name": "ipython",
    "version": 3
   },
   "file_extension": ".py",
   "mimetype": "text/x-python",
   "name": "python",
   "nbconvert_exporter": "python",
   "pygments_lexer": "ipython3",
   "version": "3.10.11"
  }
 },
 "nbformat": 4,
 "nbformat_minor": 5
}
