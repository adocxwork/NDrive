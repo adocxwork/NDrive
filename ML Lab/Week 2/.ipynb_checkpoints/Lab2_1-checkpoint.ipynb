{
 "cells": [
  {
   "cell_type": "markdown",
   "id": "2a556197-1ebc-45fb-9358-4c8a4ca552bc",
   "metadata": {},
   "source": [
    "## Mean, Median, Minimum, ..."
   ]
  },
  {
   "cell_type": "code",
   "execution_count": 2,
   "id": "4ada5398-2c49-4b58-8363-97740015253d",
   "metadata": {},
   "outputs": [],
   "source": [
    "import numpy as np"
   ]
  },
  {
   "cell_type": "code",
   "execution_count": 3,
   "id": "8e1f2ab0-e3d8-4642-b0d0-64faa37a2738",
   "metadata": {},
   "outputs": [],
   "source": [
    "arr = np.array([130,165,150,150,140])"
   ]
  },
  {
   "cell_type": "code",
   "execution_count": 4,
   "id": "ecbf197b-52fa-4e37-b3ab-a686d2fdaba4",
   "metadata": {},
   "outputs": [
    {
     "name": "stdout",
     "output_type": "stream",
     "text": [
      "mean =  147.0\n"
     ]
    }
   ],
   "source": [
    "print('mean = ', np.mean(arr))"
   ]
  },
  {
   "cell_type": "code",
   "execution_count": 5,
   "id": "5ea8c0fb-5fc3-4a96-a099-b245c9d2508f",
   "metadata": {},
   "outputs": [
    {
     "name": "stdout",
     "output_type": "stream",
     "text": [
      "median =  150.0\n"
     ]
    }
   ],
   "source": [
    "print('median = ', np.median(arr))"
   ]
  },
  {
   "cell_type": "code",
   "execution_count": 6,
   "id": "2adcd2cc-f8c9-4bea-ad56-cd78cea018c7",
   "metadata": {},
   "outputs": [
    {
     "name": "stdout",
     "output_type": "stream",
     "text": [
      "minimum =  130\n"
     ]
    }
   ],
   "source": [
    "print('minimum = ', np.min(arr))"
   ]
  },
  {
   "cell_type": "code",
   "execution_count": 7,
   "id": "b7a4b772-66b1-45de-8950-341831226bbb",
   "metadata": {},
   "outputs": [
    {
     "name": "stdout",
     "output_type": "stream",
     "text": [
      "maximum =  165\n"
     ]
    }
   ],
   "source": [
    "print('maximum = ', np.max(arr))"
   ]
  },
  {
   "cell_type": "code",
   "execution_count": 8,
   "id": "ba8e0b7f-67af-4236-8ec1-6d13d5130422",
   "metadata": {},
   "outputs": [
    {
     "name": "stdout",
     "output_type": "stream",
     "text": [
      "index of minimum =  0\n"
     ]
    }
   ],
   "source": [
    "print('index of minimum = ', np.argmin(arr))"
   ]
  },
  {
   "cell_type": "code",
   "execution_count": 9,
   "id": "0755905c-dcc6-415b-8bac-fed7075ad827",
   "metadata": {},
   "outputs": [
    {
     "name": "stdout",
     "output_type": "stream",
     "text": [
      "index of maximum =  1\n"
     ]
    }
   ],
   "source": [
    "print('index of maximum = ', np.argmax(arr))"
   ]
  },
  {
   "cell_type": "code",
   "execution_count": 10,
   "id": "2aa9b6e5-30a4-4c1a-b385-2b37a15b8eb1",
   "metadata": {},
   "outputs": [
    {
     "name": "stdout",
     "output_type": "stream",
     "text": [
      "sorted array =  [130 140 150 150 165] \n",
      "descendig order [165 150 150 140 130]\n"
     ]
    }
   ],
   "source": [
    "print('sorted array = ', np.sort(arr), '\\ndescendig order', np.sort(arr)[::-1])"
   ]
  },
  {
   "cell_type": "code",
   "execution_count": 11,
   "id": "358cb287-1110-4716-9a40-ce2693dde8e0",
   "metadata": {},
   "outputs": [
    {
     "name": "stdout",
     "output_type": "stream",
     "text": [
      "stdev 11.661903789690601\n"
     ]
    }
   ],
   "source": [
    "print('stdev', np.std(arr))"
   ]
  },
  {
   "cell_type": "code",
   "execution_count": 13,
   "id": "fce5a8d4-cc76-4492-87fa-edb7d74b431f",
   "metadata": {},
   "outputs": [
    {
     "name": "stdout",
     "output_type": "stream",
     "text": [
      "variance 136.0\n"
     ]
    }
   ],
   "source": [
    "print('variance', np.var(arr))"
   ]
  },
  {
   "cell_type": "markdown",
   "id": "ce1a7fb3-3429-42ac-a94d-e70e0dddec99",
   "metadata": {},
   "source": [
    "## Query / filtering an array"
   ]
  },
  {
   "cell_type": "code",
   "execution_count": 14,
   "id": "bc628b4f-35e5-4144-a640-643e45ae3f19",
   "metadata": {},
   "outputs": [],
   "source": [
    "std_name = np.array(['Anil', 'Rohit', 'Dinesh', 'Mohit', 'Khushi', 'Deepti'])"
   ]
  },
  {
   "cell_type": "code",
   "execution_count": 15,
   "id": "776bfe35-3513-4d2d-b1ea-d9f95618a118",
   "metadata": {},
   "outputs": [],
   "source": [
    "physics_marks = np.array([65,82,91,55,96,95])"
   ]
  },
  {
   "cell_type": "code",
   "execution_count": 17,
   "id": "718954fd-b7c6-40ff-9f6b-7cc8f39c8fec",
   "metadata": {},
   "outputs": [],
   "source": [
    "x = np.where(physics_marks>75)"
   ]
  },
  {
   "cell_type": "code",
   "execution_count": 19,
   "id": "adf638a0-ea2c-4748-b11d-ad8c1dbd83ba",
   "metadata": {},
   "outputs": [],
   "source": [
    "y = np.where((physics_marks>75) & ((physics_marks<92) | (physics_marks%2==1)))"
   ]
  },
  {
   "cell_type": "code",
   "execution_count": 20,
   "id": "888c63ef-31f6-4fe8-8a17-fe2c6c363e88",
   "metadata": {},
   "outputs": [],
   "source": [
    "z = np.where((physics_marks>75) & ((physics_marks<92) | (physics_marks%2==1)), \"Pass\", \"Fail\")"
   ]
  },
  {
   "cell_type": "code",
   "execution_count": 21,
   "id": "a69ddfe7-7aee-470f-a2ca-9a2e1349c307",
   "metadata": {},
   "outputs": [
    {
     "name": "stdout",
     "output_type": "stream",
     "text": [
      "(array([1, 2, 4, 5]),)\n"
     ]
    }
   ],
   "source": [
    "print(x)"
   ]
  },
  {
   "cell_type": "code",
   "execution_count": 22,
   "id": "1009023b-9113-4df7-a281-1f0a509a7c31",
   "metadata": {},
   "outputs": [
    {
     "name": "stdout",
     "output_type": "stream",
     "text": [
      "['Rohit' 'Dinesh' 'Khushi' 'Deepti']\n"
     ]
    }
   ],
   "source": [
    "print(std_name[x])"
   ]
  },
  {
   "cell_type": "code",
   "execution_count": 23,
   "id": "78744274-9814-4182-a724-cc1d74c98a23",
   "metadata": {},
   "outputs": [
    {
     "name": "stdout",
     "output_type": "stream",
     "text": [
      "['Rohit' 'Dinesh' 'Deepti']\n"
     ]
    }
   ],
   "source": [
    "print(std_name[y])"
   ]
  },
  {
   "cell_type": "code",
   "execution_count": 25,
   "id": "7eb16d45-a21b-4a1d-b9f5-e1a601ad8a8d",
   "metadata": {},
   "outputs": [
    {
     "name": "stdout",
     "output_type": "stream",
     "text": [
      "['Fail' 'Pass' 'Pass' 'Fail' 'Fail' 'Pass']\n"
     ]
    }
   ],
   "source": [
    "print(z)"
   ]
  },
  {
   "cell_type": "code",
   "execution_count": 27,
   "id": "003a3fe5-162c-4685-8eef-9cd2900a3113",
   "metadata": {},
   "outputs": [],
   "source": [
    "arr = np.array([1,2,3,4,5,6,7,8,9])"
   ]
  },
  {
   "cell_type": "code",
   "execution_count": 43,
   "id": "91661596-40b0-45f4-ba3b-b9d595fcf462",
   "metadata": {},
   "outputs": [],
   "source": [
    "#Define conditions\n",
    "condition1 = arr % 2 ==0 #select even no\n",
    "condition2 = arr > 5 #select no > 5"
   ]
  },
  {
   "cell_type": "code",
   "execution_count": 30,
   "id": "5acb6be5-007c-43a4-ab4e-d782ea0ef173",
   "metadata": {},
   "outputs": [],
   "source": [
    "filtered_arr = np.where(condition1 & condition2, arr*2, arr)"
   ]
  },
  {
   "cell_type": "code",
   "execution_count": 31,
   "id": "0a437470-c60c-408a-9731-750d067f938a",
   "metadata": {},
   "outputs": [
    {
     "name": "stdout",
     "output_type": "stream",
     "text": [
      "[ 1  2  3  4  5 12  7 16  9]\n"
     ]
    }
   ],
   "source": [
    "print(filtered_arr)"
   ]
  },
  {
   "cell_type": "markdown",
   "id": "d7a18aeb-be9f-46c5-b638-52922b52ac8e",
   "metadata": {},
   "source": [
    "## np.select to handle multiple arrays and multiple conditions"
   ]
  },
  {
   "cell_type": "code",
   "execution_count": 32,
   "id": "8a76f80d-2c57-4928-a4af-cb153521707e",
   "metadata": {},
   "outputs": [],
   "source": [
    "arr1 = np.array([1,2,3,4,5])"
   ]
  },
  {
   "cell_type": "code",
   "execution_count": 34,
   "id": "7c80e2c4-3c66-4fdf-9f9d-cb8518d1af6c",
   "metadata": {},
   "outputs": [],
   "source": [
    "arr2 = arr1*2"
   ]
  },
  {
   "cell_type": "code",
   "execution_count": 35,
   "id": "54a7151d-8d42-49c8-9b2b-2b61b27bbfcc",
   "metadata": {},
   "outputs": [],
   "source": [
    "conditions = [arr1 > 2, arr1<5]"
   ]
  },
  {
   "cell_type": "code",
   "execution_count": 36,
   "id": "58cf6daa-aeeb-40e5-a53c-7c6773f9fe9c",
   "metadata": {},
   "outputs": [
    {
     "name": "stdout",
     "output_type": "stream",
     "text": [
      "conditions  [array([False, False,  True,  True,  True]), array([ True,  True,  True,  True, False])]\n"
     ]
    }
   ],
   "source": [
    "print('conditions ', conditions)"
   ]
  },
  {
   "cell_type": "code",
   "execution_count": 38,
   "id": "8418cfb0-173e-49f2-8fc4-7cf29ea60573",
   "metadata": {},
   "outputs": [],
   "source": [
    "choices = [arr1, arr2]"
   ]
  },
  {
   "cell_type": "code",
   "execution_count": 39,
   "id": "0643c29f-d642-4f72-b78f-8d0b34f5c015",
   "metadata": {},
   "outputs": [
    {
     "name": "stdout",
     "output_type": "stream",
     "text": [
      "choices  [array([1, 2, 3, 4, 5]), array([ 2,  4,  6,  8, 10])]\n"
     ]
    }
   ],
   "source": [
    "print('choices ', choices)"
   ]
  },
  {
   "cell_type": "code",
   "execution_count": 41,
   "id": "4ba6d2ec-23ca-41a3-93be-3b16ccf17315",
   "metadata": {},
   "outputs": [],
   "source": [
    "result = np.select(conditions, choices, default = 0)"
   ]
  },
  {
   "cell_type": "code",
   "execution_count": 42,
   "id": "b87cd213-d0b1-49ee-8c04-6a72f5a36219",
   "metadata": {},
   "outputs": [
    {
     "name": "stdout",
     "output_type": "stream",
     "text": [
      "result  [2 4 3 4 5]\n"
     ]
    }
   ],
   "source": [
    "print('result ', result)"
   ]
  }
 ],
 "metadata": {
  "kernelspec": {
   "display_name": "Python 3 (ipykernel)",
   "language": "python",
   "name": "python3"
  },
  "language_info": {
   "codemirror_mode": {
    "name": "ipython",
    "version": 3
   },
   "file_extension": ".py",
   "mimetype": "text/x-python",
   "name": "python",
   "nbconvert_exporter": "python",
   "pygments_lexer": "ipython3",
   "version": "3.10.11"
  }
 },
 "nbformat": 4,
 "nbformat_minor": 5
}
