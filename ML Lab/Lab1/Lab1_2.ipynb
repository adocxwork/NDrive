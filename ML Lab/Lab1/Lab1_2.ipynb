{
 "cells": [
  {
   "cell_type": "code",
   "execution_count": 1,
   "id": "b3d59479-6503-401b-ae85-ad7620f2265f",
   "metadata": {},
   "outputs": [],
   "source": [
    "import numpy as np"
   ]
  },
  {
   "cell_type": "code",
   "execution_count": 11,
   "id": "1a4a2057-6fe7-41d7-87b0-1d052631e017",
   "metadata": {},
   "outputs": [],
   "source": [
    "# Exercise 1\n",
    "arr1 = np.array([[[1,2],[3,4],[5,6]],[[7,8],[9,10],[11,12]],[[13,14],[15,16],[17,18]]])"
   ]
  },
  {
   "cell_type": "code",
   "execution_count": 6,
   "id": "5c378122-785d-48cb-8fff-483ffa795641",
   "metadata": {},
   "outputs": [
    {
     "name": "stdout",
     "output_type": "stream",
     "text": [
      "[[[ 1  2]\n",
      "  [ 3  4]\n",
      "  [ 5  6]]\n",
      "\n",
      " [[ 7  8]\n",
      "  [ 9 10]\n",
      "  [11 12]]\n",
      "\n",
      " [[13 14]\n",
      "  [15 16]\n",
      "  [17 18]]]\n"
     ]
    }
   ],
   "source": [
    "print(arr1)"
   ]
  },
  {
   "cell_type": "code",
   "execution_count": 8,
   "id": "4922f7f6-5f0c-48ac-9722-f356fad11a22",
   "metadata": {},
   "outputs": [
    {
     "name": "stdout",
     "output_type": "stream",
     "text": [
      "Length = 3\n"
     ]
    }
   ],
   "source": [
    "print(\"Length =\", len(arr1))"
   ]
  },
  {
   "cell_type": "code",
   "execution_count": 9,
   "id": "d73e610f-781f-4dff-8c84-9f0637925cb4",
   "metadata": {},
   "outputs": [
    {
     "name": "stdout",
     "output_type": "stream",
     "text": [
      "Shape = (3, 3, 2)\n"
     ]
    }
   ],
   "source": [
    "print(\"Shape =\", arr1.shape)"
   ]
  },
  {
   "cell_type": "code",
   "execution_count": 10,
   "id": "d8d5bf0c-1a9b-4ab4-b395-d4af6021523f",
   "metadata": {},
   "outputs": [
    {
     "name": "stdout",
     "output_type": "stream",
     "text": [
      "Dimentions = 3\n"
     ]
    }
   ],
   "source": [
    "print(\"Dimentions =\", arr1.ndim)"
   ]
  },
  {
   "cell_type": "code",
   "execution_count": 13,
   "id": "36e8d3b3-e33c-443e-aed6-fd4bb67fe27a",
   "metadata": {},
   "outputs": [],
   "source": [
    "#Exercise 1a: First 2D array from above 3D array"
   ]
  },
  {
   "cell_type": "code",
   "execution_count": 14,
   "id": "9d685f2c-6670-4b7b-b6b9-f202e460fce6",
   "metadata": {},
   "outputs": [
    {
     "name": "stdout",
     "output_type": "stream",
     "text": [
      "[[1 2]\n",
      " [3 4]\n",
      " [5 6]]\n"
     ]
    }
   ],
   "source": [
    "print(arr1[0])"
   ]
  },
  {
   "cell_type": "code",
   "execution_count": 22,
   "id": "6e2d2437-5cf3-4e01-bd22-53378d907a8d",
   "metadata": {},
   "outputs": [
    {
     "name": "stdout",
     "output_type": "stream",
     "text": [
      "Length = 3\n"
     ]
    }
   ],
   "source": [
    "print(\"Length =\", len(arr1[0]))"
   ]
  },
  {
   "cell_type": "code",
   "execution_count": 17,
   "id": "47c3a617-b02a-4168-8aa7-e9359113030f",
   "metadata": {},
   "outputs": [
    {
     "name": "stdout",
     "output_type": "stream",
     "text": [
      "Shape = (3, 2)\n"
     ]
    }
   ],
   "source": [
    "print(\"Shape =\", arr1[0].shape)"
   ]
  },
  {
   "cell_type": "code",
   "execution_count": 18,
   "id": "22f24209-157e-446c-b798-4086272aa2a9",
   "metadata": {},
   "outputs": [
    {
     "name": "stdout",
     "output_type": "stream",
     "text": [
      "Dimensions = 2\n"
     ]
    }
   ],
   "source": [
    "print(\"Dimensions =\", arr1[0].ndim)"
   ]
  },
  {
   "cell_type": "code",
   "execution_count": 19,
   "id": "5054cfbb-7f5d-4d82-ae46-a227403f15d4",
   "metadata": {},
   "outputs": [],
   "source": [
    "#Exercise 1b: First 1D array from 3D array"
   ]
  },
  {
   "cell_type": "code",
   "execution_count": 20,
   "id": "3204199b-d171-4946-8fcd-a5323a8a6d9e",
   "metadata": {},
   "outputs": [
    {
     "name": "stdout",
     "output_type": "stream",
     "text": [
      "[1 2]\n"
     ]
    }
   ],
   "source": [
    "print(arr1[0][0])"
   ]
  },
  {
   "cell_type": "code",
   "execution_count": 21,
   "id": "1c3cd17a-ed8c-484f-ad32-3dbce49bab19",
   "metadata": {},
   "outputs": [
    {
     "name": "stdout",
     "output_type": "stream",
     "text": [
      "Length = 2\n"
     ]
    }
   ],
   "source": [
    "print(\"Length =\", len(arr1[0][0]))"
   ]
  },
  {
   "cell_type": "code",
   "execution_count": 23,
   "id": "9247ca87-e6ce-4364-a22b-c2f29b9d2d94",
   "metadata": {},
   "outputs": [
    {
     "name": "stdout",
     "output_type": "stream",
     "text": [
      "Shape = (2,)\n"
     ]
    }
   ],
   "source": [
    "print(\"Shape =\", arr1[0][0].shape)"
   ]
  },
  {
   "cell_type": "code",
   "execution_count": 24,
   "id": "d4823090-c202-4e13-a448-991d046b16d2",
   "metadata": {},
   "outputs": [
    {
     "name": "stdout",
     "output_type": "stream",
     "text": [
      "Dimensions = 1\n"
     ]
    }
   ],
   "source": [
    "print(\"Dimensions =\", arr1[0][0].ndim)"
   ]
  }
 ],
 "metadata": {
  "kernelspec": {
   "display_name": "Python 3 (ipykernel)",
   "language": "python",
   "name": "python3"
  },
  "language_info": {
   "codemirror_mode": {
    "name": "ipython",
    "version": 3
   },
   "file_extension": ".py",
   "mimetype": "text/x-python",
   "name": "python",
   "nbconvert_exporter": "python",
   "pygments_lexer": "ipython3",
   "version": "3.10.11"
  }
 },
 "nbformat": 4,
 "nbformat_minor": 5
}
