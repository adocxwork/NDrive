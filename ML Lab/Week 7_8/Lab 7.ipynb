{
 "cells": [
  {
   "cell_type": "markdown",
   "id": "a3830e59-e3fa-4aac-bc0c-2db379c0c269",
   "metadata": {},
   "source": [
    "# Lab 7"
   ]
  },
  {
   "cell_type": "code",
   "execution_count": 1,
   "id": "f7094425-a221-4007-8d89-e34505415962",
   "metadata": {},
   "outputs": [
    {
     "data": {
      "text/plain": [
       "longitude               0\n",
       "latitude                0\n",
       "housing_median_age      0\n",
       "total_rooms             0\n",
       "total_bedrooms        207\n",
       "population              0\n",
       "households              0\n",
       "median_income           0\n",
       "median_house_value      0\n",
       "ocean_proximity         0\n",
       "dtype: int64"
      ]
     },
     "execution_count": 1,
     "metadata": {},
     "output_type": "execute_result"
    }
   ],
   "source": [
    "import pandas as pd\n",
    "import numpy as np\n",
    "# Load dataset into df1\n",
    "df1 = pd.read_csv('housing.csv')  # <-- Replace with your actual file path\n",
    "\n",
    "# step 1 :- fill the missing values\n",
    "df1.isna().sum()"
   ]
  },
  {
   "cell_type": "code",
   "execution_count": 2,
   "id": "4c0fae08-2c9f-4ea3-b7d2-7e3ad4b706fd",
   "metadata": {},
   "outputs": [
    {
     "data": {
      "text/plain": [
       "(np.float64(537.8705525375618), np.float64(nan))"
      ]
     },
     "execution_count": 2,
     "metadata": {},
     "output_type": "execute_result"
    }
   ],
   "source": [
    "np.mean(df1.total_bedrooms),np.median(df1.total_bedrooms)"
   ]
  },
  {
   "cell_type": "code",
   "execution_count": 3,
   "id": "86581b23-3cd0-4aba-ada1-42eb0e3eb75d",
   "metadata": {},
   "outputs": [],
   "source": [
    "df2=df1.fillna(np.mean(df1.total_bedrooms))"
   ]
  },
  {
   "cell_type": "code",
   "execution_count": 4,
   "id": "4e497037-bacf-4e14-bb06-c5cb2bf82cf8",
   "metadata": {},
   "outputs": [
    {
     "data": {
      "text/plain": [
       "longitude             0\n",
       "latitude              0\n",
       "housing_median_age    0\n",
       "total_rooms           0\n",
       "total_bedrooms        0\n",
       "population            0\n",
       "households            0\n",
       "median_income         0\n",
       "median_house_value    0\n",
       "ocean_proximity       0\n",
       "dtype: int64"
      ]
     },
     "execution_count": 4,
     "metadata": {},
     "output_type": "execute_result"
    }
   ],
   "source": [
    "df2.isna().sum()"
   ]
  },
  {
   "cell_type": "code",
   "execution_count": 5,
   "id": "44112c0e-f72b-4c65-8797-3eda6fc1c9a0",
   "metadata": {},
   "outputs": [
    {
     "data": {
      "text/plain": [
       "ocean_proximity\n",
       "<1H OCEAN     9136\n",
       "INLAND        6551\n",
       "NEAR OCEAN    2658\n",
       "NEAR BAY      2290\n",
       "ISLAND           5\n",
       "Name: count, dtype: int64"
      ]
     },
     "execution_count": 5,
     "metadata": {},
     "output_type": "execute_result"
    }
   ],
   "source": [
    "#df2.total_bedrooms.value_counts() # => show you the mean value which we filled, has freq equal to the missing values\n",
    "# step 2 :- convert categorical values into numerical, the attribute here is ocean_proximity\n",
    "df2.ocean_proximity.value_counts()"
   ]
  },
  {
   "cell_type": "code",
   "execution_count": 6,
   "id": "af235bb6-bb4d-4e9b-8eed-2283de7b1c00",
   "metadata": {},
   "outputs": [],
   "source": [
    "# use OneHotEncoder\n",
    "from sklearn.preprocessing import OneHotEncoder\n",
    "ohe = OneHotEncoder()\n",
    "categorical_encoding=ohe.fit_transform(df2[['ocean_proximity']])"
   ]
  },
  {
   "cell_type": "code",
   "execution_count": 7,
   "id": "c194ef93-ec57-4e4a-82c6-941122d19136",
   "metadata": {},
   "outputs": [
    {
     "data": {
      "text/plain": [
       "array(['ocean_proximity_<1H OCEAN', 'ocean_proximity_INLAND',\n",
       "       'ocean_proximity_ISLAND', 'ocean_proximity_NEAR BAY',\n",
       "       'ocean_proximity_NEAR OCEAN'], dtype=object)"
      ]
     },
     "execution_count": 7,
     "metadata": {},
     "output_type": "execute_result"
    }
   ],
   "source": [
    "ohe.categories_\n",
    "categorical_encoding.toarray()\n",
    "ohe.get_feature_names_out()"
   ]
  },
  {
   "cell_type": "code",
   "execution_count": 8,
   "id": "c5baa40e-055b-4c82-8c92-40e7fd3256a6",
   "metadata": {},
   "outputs": [
    {
     "data": {
      "text/html": [
       "<div>\n",
       "<style scoped>\n",
       "    .dataframe tbody tr th:only-of-type {\n",
       "        vertical-align: middle;\n",
       "    }\n",
       "\n",
       "    .dataframe tbody tr th {\n",
       "        vertical-align: top;\n",
       "    }\n",
       "\n",
       "    .dataframe thead th {\n",
       "        text-align: right;\n",
       "    }\n",
       "</style>\n",
       "<table border=\"1\" class=\"dataframe\">\n",
       "  <thead>\n",
       "    <tr style=\"text-align: right;\">\n",
       "      <th></th>\n",
       "      <th>longitude</th>\n",
       "      <th>latitude</th>\n",
       "      <th>housing_median_age</th>\n",
       "      <th>total_rooms</th>\n",
       "      <th>total_bedrooms</th>\n",
       "      <th>population</th>\n",
       "      <th>households</th>\n",
       "      <th>median_income</th>\n",
       "      <th>median_house_value</th>\n",
       "      <th>ocean_proximity_&lt;1H OCEAN</th>\n",
       "      <th>ocean_proximity_INLAND</th>\n",
       "      <th>ocean_proximity_ISLAND</th>\n",
       "      <th>ocean_proximity_NEAR BAY</th>\n",
       "      <th>ocean_proximity_NEAR OCEAN</th>\n",
       "    </tr>\n",
       "  </thead>\n",
       "  <tbody>\n",
       "    <tr>\n",
       "      <th>0</th>\n",
       "      <td>-122.23</td>\n",
       "      <td>37.88</td>\n",
       "      <td>41.0</td>\n",
       "      <td>880.0</td>\n",
       "      <td>129.0</td>\n",
       "      <td>322.0</td>\n",
       "      <td>126.0</td>\n",
       "      <td>8.3252</td>\n",
       "      <td>452600.0</td>\n",
       "      <td>0.0</td>\n",
       "      <td>0.0</td>\n",
       "      <td>0.0</td>\n",
       "      <td>1.0</td>\n",
       "      <td>0.0</td>\n",
       "    </tr>\n",
       "    <tr>\n",
       "      <th>1</th>\n",
       "      <td>-122.22</td>\n",
       "      <td>37.86</td>\n",
       "      <td>21.0</td>\n",
       "      <td>7099.0</td>\n",
       "      <td>1106.0</td>\n",
       "      <td>2401.0</td>\n",
       "      <td>1138.0</td>\n",
       "      <td>8.3014</td>\n",
       "      <td>358500.0</td>\n",
       "      <td>0.0</td>\n",
       "      <td>0.0</td>\n",
       "      <td>0.0</td>\n",
       "      <td>1.0</td>\n",
       "      <td>0.0</td>\n",
       "    </tr>\n",
       "    <tr>\n",
       "      <th>2</th>\n",
       "      <td>-122.24</td>\n",
       "      <td>37.85</td>\n",
       "      <td>52.0</td>\n",
       "      <td>1467.0</td>\n",
       "      <td>190.0</td>\n",
       "      <td>496.0</td>\n",
       "      <td>177.0</td>\n",
       "      <td>7.2574</td>\n",
       "      <td>352100.0</td>\n",
       "      <td>0.0</td>\n",
       "      <td>0.0</td>\n",
       "      <td>0.0</td>\n",
       "      <td>1.0</td>\n",
       "      <td>0.0</td>\n",
       "    </tr>\n",
       "    <tr>\n",
       "      <th>3</th>\n",
       "      <td>-122.25</td>\n",
       "      <td>37.85</td>\n",
       "      <td>52.0</td>\n",
       "      <td>1274.0</td>\n",
       "      <td>235.0</td>\n",
       "      <td>558.0</td>\n",
       "      <td>219.0</td>\n",
       "      <td>5.6431</td>\n",
       "      <td>341300.0</td>\n",
       "      <td>0.0</td>\n",
       "      <td>0.0</td>\n",
       "      <td>0.0</td>\n",
       "      <td>1.0</td>\n",
       "      <td>0.0</td>\n",
       "    </tr>\n",
       "    <tr>\n",
       "      <th>4</th>\n",
       "      <td>-122.25</td>\n",
       "      <td>37.85</td>\n",
       "      <td>52.0</td>\n",
       "      <td>1627.0</td>\n",
       "      <td>280.0</td>\n",
       "      <td>565.0</td>\n",
       "      <td>259.0</td>\n",
       "      <td>3.8462</td>\n",
       "      <td>342200.0</td>\n",
       "      <td>0.0</td>\n",
       "      <td>0.0</td>\n",
       "      <td>0.0</td>\n",
       "      <td>1.0</td>\n",
       "      <td>0.0</td>\n",
       "    </tr>\n",
       "  </tbody>\n",
       "</table>\n",
       "</div>"
      ],
      "text/plain": [
       "   longitude  latitude  housing_median_age  total_rooms  total_bedrooms  \\\n",
       "0    -122.23     37.88                41.0        880.0           129.0   \n",
       "1    -122.22     37.86                21.0       7099.0          1106.0   \n",
       "2    -122.24     37.85                52.0       1467.0           190.0   \n",
       "3    -122.25     37.85                52.0       1274.0           235.0   \n",
       "4    -122.25     37.85                52.0       1627.0           280.0   \n",
       "\n",
       "   population  households  median_income  median_house_value  \\\n",
       "0       322.0       126.0         8.3252            452600.0   \n",
       "1      2401.0      1138.0         8.3014            358500.0   \n",
       "2       496.0       177.0         7.2574            352100.0   \n",
       "3       558.0       219.0         5.6431            341300.0   \n",
       "4       565.0       259.0         3.8462            342200.0   \n",
       "\n",
       "   ocean_proximity_<1H OCEAN  ocean_proximity_INLAND  ocean_proximity_ISLAND  \\\n",
       "0                        0.0                     0.0                     0.0   \n",
       "1                        0.0                     0.0                     0.0   \n",
       "2                        0.0                     0.0                     0.0   \n",
       "3                        0.0                     0.0                     0.0   \n",
       "4                        0.0                     0.0                     0.0   \n",
       "\n",
       "   ocean_proximity_NEAR BAY  ocean_proximity_NEAR OCEAN  \n",
       "0                       1.0                         0.0  \n",
       "1                       1.0                         0.0  \n",
       "2                       1.0                         0.0  \n",
       "3                       1.0                         0.0  \n",
       "4                       1.0                         0.0  "
      ]
     },
     "execution_count": 8,
     "metadata": {},
     "output_type": "execute_result"
    }
   ],
   "source": [
    "# step 3 :- make newly created vector part of the dataset\n",
    "df_cat_to_num = pd.DataFrame(categorical_encoding.toarray(),columns=ohe.get_feature_names_out(),index=df2.index)\n",
    "df3 = pd.concat([df2,df_cat_to_num],axis=1)\n",
    "df3.drop('ocean_proximity',axis=1,inplace=True)\n",
    "df3.head()"
   ]
  },
  {
   "cell_type": "code",
   "execution_count": 9,
   "id": "30432440-4105-437d-b995-c3df352be643",
   "metadata": {},
   "outputs": [
    {
     "data": {
      "text/plain": [
       "ocean_proximity_INLAND\n",
       "0.0    0.691134\n",
       "1.0    0.308866\n",
       "Name: count, dtype: float64"
      ]
     },
     "execution_count": 9,
     "metadata": {},
     "output_type": "execute_result"
    }
   ],
   "source": [
    "# step 4:- split data into train and test sets\n",
    "from sklearn.model_selection import train_test_split\n",
    "df3_train,df3_test=train_test_split(df3,test_size=0.2,random_state=42)\n",
    "df3_train.shape, df3_test.shape\n",
    "df3_train['ocean_proximity_INLAND'].value_counts()/df3_train.shape[0]\n",
    "df3_test['ocean_proximity_INLAND'].value_counts()/df3_test.shape[0]"
   ]
  },
  {
   "cell_type": "code",
   "execution_count": 10,
   "id": "38e78cfa-d29e-458c-b9bc-dee99e484b01",
   "metadata": {},
   "outputs": [
    {
     "data": {
      "text/plain": [
       "Index(['longitude', 'latitude', 'housing_median_age', 'total_rooms',\n",
       "       'total_bedrooms', 'population', 'households', 'median_income',\n",
       "       'ocean_proximity_<1H OCEAN', 'ocean_proximity_INLAND',\n",
       "       'ocean_proximity_ISLAND', 'ocean_proximity_NEAR BAY',\n",
       "       'ocean_proximity_NEAR OCEAN'],\n",
       "      dtype='object')"
      ]
     },
     "execution_count": 10,
     "metadata": {},
     "output_type": "execute_result"
    }
   ],
   "source": [
    "# step 5:- separate target feature\n",
    "df3_train_target = df3_train['median_house_value']\n",
    "df3_train_set = df3_train.drop('median_house_value',axis=1)\n",
    "df3_test_target =df3_test['median_house_value']\n",
    "df3_test_set = df3_test.drop('median_house_value',axis=1)\n",
    "\n",
    "df3_train_set.columns"
   ]
  },
  {
   "cell_type": "code",
   "execution_count": 11,
   "id": "4c3d9ff7-2bca-4477-9adb-67a775462ae7",
   "metadata": {},
   "outputs": [
    {
     "data": {
      "text/html": [
       "<style>#sk-container-id-1 {\n",
       "  /* Definition of color scheme common for light and dark mode */\n",
       "  --sklearn-color-text: #000;\n",
       "  --sklearn-color-text-muted: #666;\n",
       "  --sklearn-color-line: gray;\n",
       "  /* Definition of color scheme for unfitted estimators */\n",
       "  --sklearn-color-unfitted-level-0: #fff5e6;\n",
       "  --sklearn-color-unfitted-level-1: #f6e4d2;\n",
       "  --sklearn-color-unfitted-level-2: #ffe0b3;\n",
       "  --sklearn-color-unfitted-level-3: chocolate;\n",
       "  /* Definition of color scheme for fitted estimators */\n",
       "  --sklearn-color-fitted-level-0: #f0f8ff;\n",
       "  --sklearn-color-fitted-level-1: #d4ebff;\n",
       "  --sklearn-color-fitted-level-2: #b3dbfd;\n",
       "  --sklearn-color-fitted-level-3: cornflowerblue;\n",
       "\n",
       "  /* Specific color for light theme */\n",
       "  --sklearn-color-text-on-default-background: var(--sg-text-color, var(--theme-code-foreground, var(--jp-content-font-color1, black)));\n",
       "  --sklearn-color-background: var(--sg-background-color, var(--theme-background, var(--jp-layout-color0, white)));\n",
       "  --sklearn-color-border-box: var(--sg-text-color, var(--theme-code-foreground, var(--jp-content-font-color1, black)));\n",
       "  --sklearn-color-icon: #696969;\n",
       "\n",
       "  @media (prefers-color-scheme: dark) {\n",
       "    /* Redefinition of color scheme for dark theme */\n",
       "    --sklearn-color-text-on-default-background: var(--sg-text-color, var(--theme-code-foreground, var(--jp-content-font-color1, white)));\n",
       "    --sklearn-color-background: var(--sg-background-color, var(--theme-background, var(--jp-layout-color0, #111)));\n",
       "    --sklearn-color-border-box: var(--sg-text-color, var(--theme-code-foreground, var(--jp-content-font-color1, white)));\n",
       "    --sklearn-color-icon: #878787;\n",
       "  }\n",
       "}\n",
       "\n",
       "#sk-container-id-1 {\n",
       "  color: var(--sklearn-color-text);\n",
       "}\n",
       "\n",
       "#sk-container-id-1 pre {\n",
       "  padding: 0;\n",
       "}\n",
       "\n",
       "#sk-container-id-1 input.sk-hidden--visually {\n",
       "  border: 0;\n",
       "  clip: rect(1px 1px 1px 1px);\n",
       "  clip: rect(1px, 1px, 1px, 1px);\n",
       "  height: 1px;\n",
       "  margin: -1px;\n",
       "  overflow: hidden;\n",
       "  padding: 0;\n",
       "  position: absolute;\n",
       "  width: 1px;\n",
       "}\n",
       "\n",
       "#sk-container-id-1 div.sk-dashed-wrapped {\n",
       "  border: 1px dashed var(--sklearn-color-line);\n",
       "  margin: 0 0.4em 0.5em 0.4em;\n",
       "  box-sizing: border-box;\n",
       "  padding-bottom: 0.4em;\n",
       "  background-color: var(--sklearn-color-background);\n",
       "}\n",
       "\n",
       "#sk-container-id-1 div.sk-container {\n",
       "  /* jupyter's `normalize.less` sets `[hidden] { display: none; }`\n",
       "     but bootstrap.min.css set `[hidden] { display: none !important; }`\n",
       "     so we also need the `!important` here to be able to override the\n",
       "     default hidden behavior on the sphinx rendered scikit-learn.org.\n",
       "     See: https://github.com/scikit-learn/scikit-learn/issues/21755 */\n",
       "  display: inline-block !important;\n",
       "  position: relative;\n",
       "}\n",
       "\n",
       "#sk-container-id-1 div.sk-text-repr-fallback {\n",
       "  display: none;\n",
       "}\n",
       "\n",
       "div.sk-parallel-item,\n",
       "div.sk-serial,\n",
       "div.sk-item {\n",
       "  /* draw centered vertical line to link estimators */\n",
       "  background-image: linear-gradient(var(--sklearn-color-text-on-default-background), var(--sklearn-color-text-on-default-background));\n",
       "  background-size: 2px 100%;\n",
       "  background-repeat: no-repeat;\n",
       "  background-position: center center;\n",
       "}\n",
       "\n",
       "/* Parallel-specific style estimator block */\n",
       "\n",
       "#sk-container-id-1 div.sk-parallel-item::after {\n",
       "  content: \"\";\n",
       "  width: 100%;\n",
       "  border-bottom: 2px solid var(--sklearn-color-text-on-default-background);\n",
       "  flex-grow: 1;\n",
       "}\n",
       "\n",
       "#sk-container-id-1 div.sk-parallel {\n",
       "  display: flex;\n",
       "  align-items: stretch;\n",
       "  justify-content: center;\n",
       "  background-color: var(--sklearn-color-background);\n",
       "  position: relative;\n",
       "}\n",
       "\n",
       "#sk-container-id-1 div.sk-parallel-item {\n",
       "  display: flex;\n",
       "  flex-direction: column;\n",
       "}\n",
       "\n",
       "#sk-container-id-1 div.sk-parallel-item:first-child::after {\n",
       "  align-self: flex-end;\n",
       "  width: 50%;\n",
       "}\n",
       "\n",
       "#sk-container-id-1 div.sk-parallel-item:last-child::after {\n",
       "  align-self: flex-start;\n",
       "  width: 50%;\n",
       "}\n",
       "\n",
       "#sk-container-id-1 div.sk-parallel-item:only-child::after {\n",
       "  width: 0;\n",
       "}\n",
       "\n",
       "/* Serial-specific style estimator block */\n",
       "\n",
       "#sk-container-id-1 div.sk-serial {\n",
       "  display: flex;\n",
       "  flex-direction: column;\n",
       "  align-items: center;\n",
       "  background-color: var(--sklearn-color-background);\n",
       "  padding-right: 1em;\n",
       "  padding-left: 1em;\n",
       "}\n",
       "\n",
       "\n",
       "/* Toggleable style: style used for estimator/Pipeline/ColumnTransformer box that is\n",
       "clickable and can be expanded/collapsed.\n",
       "- Pipeline and ColumnTransformer use this feature and define the default style\n",
       "- Estimators will overwrite some part of the style using the `sk-estimator` class\n",
       "*/\n",
       "\n",
       "/* Pipeline and ColumnTransformer style (default) */\n",
       "\n",
       "#sk-container-id-1 div.sk-toggleable {\n",
       "  /* Default theme specific background. It is overwritten whether we have a\n",
       "  specific estimator or a Pipeline/ColumnTransformer */\n",
       "  background-color: var(--sklearn-color-background);\n",
       "}\n",
       "\n",
       "/* Toggleable label */\n",
       "#sk-container-id-1 label.sk-toggleable__label {\n",
       "  cursor: pointer;\n",
       "  display: flex;\n",
       "  width: 100%;\n",
       "  margin-bottom: 0;\n",
       "  padding: 0.5em;\n",
       "  box-sizing: border-box;\n",
       "  text-align: center;\n",
       "  align-items: start;\n",
       "  justify-content: space-between;\n",
       "  gap: 0.5em;\n",
       "}\n",
       "\n",
       "#sk-container-id-1 label.sk-toggleable__label .caption {\n",
       "  font-size: 0.6rem;\n",
       "  font-weight: lighter;\n",
       "  color: var(--sklearn-color-text-muted);\n",
       "}\n",
       "\n",
       "#sk-container-id-1 label.sk-toggleable__label-arrow:before {\n",
       "  /* Arrow on the left of the label */\n",
       "  content: \"▸\";\n",
       "  float: left;\n",
       "  margin-right: 0.25em;\n",
       "  color: var(--sklearn-color-icon);\n",
       "}\n",
       "\n",
       "#sk-container-id-1 label.sk-toggleable__label-arrow:hover:before {\n",
       "  color: var(--sklearn-color-text);\n",
       "}\n",
       "\n",
       "/* Toggleable content - dropdown */\n",
       "\n",
       "#sk-container-id-1 div.sk-toggleable__content {\n",
       "  max-height: 0;\n",
       "  max-width: 0;\n",
       "  overflow: hidden;\n",
       "  text-align: left;\n",
       "  /* unfitted */\n",
       "  background-color: var(--sklearn-color-unfitted-level-0);\n",
       "}\n",
       "\n",
       "#sk-container-id-1 div.sk-toggleable__content.fitted {\n",
       "  /* fitted */\n",
       "  background-color: var(--sklearn-color-fitted-level-0);\n",
       "}\n",
       "\n",
       "#sk-container-id-1 div.sk-toggleable__content pre {\n",
       "  margin: 0.2em;\n",
       "  border-radius: 0.25em;\n",
       "  color: var(--sklearn-color-text);\n",
       "  /* unfitted */\n",
       "  background-color: var(--sklearn-color-unfitted-level-0);\n",
       "}\n",
       "\n",
       "#sk-container-id-1 div.sk-toggleable__content.fitted pre {\n",
       "  /* unfitted */\n",
       "  background-color: var(--sklearn-color-fitted-level-0);\n",
       "}\n",
       "\n",
       "#sk-container-id-1 input.sk-toggleable__control:checked~div.sk-toggleable__content {\n",
       "  /* Expand drop-down */\n",
       "  max-height: 200px;\n",
       "  max-width: 100%;\n",
       "  overflow: auto;\n",
       "}\n",
       "\n",
       "#sk-container-id-1 input.sk-toggleable__control:checked~label.sk-toggleable__label-arrow:before {\n",
       "  content: \"▾\";\n",
       "}\n",
       "\n",
       "/* Pipeline/ColumnTransformer-specific style */\n",
       "\n",
       "#sk-container-id-1 div.sk-label input.sk-toggleable__control:checked~label.sk-toggleable__label {\n",
       "  color: var(--sklearn-color-text);\n",
       "  background-color: var(--sklearn-color-unfitted-level-2);\n",
       "}\n",
       "\n",
       "#sk-container-id-1 div.sk-label.fitted input.sk-toggleable__control:checked~label.sk-toggleable__label {\n",
       "  background-color: var(--sklearn-color-fitted-level-2);\n",
       "}\n",
       "\n",
       "/* Estimator-specific style */\n",
       "\n",
       "/* Colorize estimator box */\n",
       "#sk-container-id-1 div.sk-estimator input.sk-toggleable__control:checked~label.sk-toggleable__label {\n",
       "  /* unfitted */\n",
       "  background-color: var(--sklearn-color-unfitted-level-2);\n",
       "}\n",
       "\n",
       "#sk-container-id-1 div.sk-estimator.fitted input.sk-toggleable__control:checked~label.sk-toggleable__label {\n",
       "  /* fitted */\n",
       "  background-color: var(--sklearn-color-fitted-level-2);\n",
       "}\n",
       "\n",
       "#sk-container-id-1 div.sk-label label.sk-toggleable__label,\n",
       "#sk-container-id-1 div.sk-label label {\n",
       "  /* The background is the default theme color */\n",
       "  color: var(--sklearn-color-text-on-default-background);\n",
       "}\n",
       "\n",
       "/* On hover, darken the color of the background */\n",
       "#sk-container-id-1 div.sk-label:hover label.sk-toggleable__label {\n",
       "  color: var(--sklearn-color-text);\n",
       "  background-color: var(--sklearn-color-unfitted-level-2);\n",
       "}\n",
       "\n",
       "/* Label box, darken color on hover, fitted */\n",
       "#sk-container-id-1 div.sk-label.fitted:hover label.sk-toggleable__label.fitted {\n",
       "  color: var(--sklearn-color-text);\n",
       "  background-color: var(--sklearn-color-fitted-level-2);\n",
       "}\n",
       "\n",
       "/* Estimator label */\n",
       "\n",
       "#sk-container-id-1 div.sk-label label {\n",
       "  font-family: monospace;\n",
       "  font-weight: bold;\n",
       "  display: inline-block;\n",
       "  line-height: 1.2em;\n",
       "}\n",
       "\n",
       "#sk-container-id-1 div.sk-label-container {\n",
       "  text-align: center;\n",
       "}\n",
       "\n",
       "/* Estimator-specific */\n",
       "#sk-container-id-1 div.sk-estimator {\n",
       "  font-family: monospace;\n",
       "  border: 1px dotted var(--sklearn-color-border-box);\n",
       "  border-radius: 0.25em;\n",
       "  box-sizing: border-box;\n",
       "  margin-bottom: 0.5em;\n",
       "  /* unfitted */\n",
       "  background-color: var(--sklearn-color-unfitted-level-0);\n",
       "}\n",
       "\n",
       "#sk-container-id-1 div.sk-estimator.fitted {\n",
       "  /* fitted */\n",
       "  background-color: var(--sklearn-color-fitted-level-0);\n",
       "}\n",
       "\n",
       "/* on hover */\n",
       "#sk-container-id-1 div.sk-estimator:hover {\n",
       "  /* unfitted */\n",
       "  background-color: var(--sklearn-color-unfitted-level-2);\n",
       "}\n",
       "\n",
       "#sk-container-id-1 div.sk-estimator.fitted:hover {\n",
       "  /* fitted */\n",
       "  background-color: var(--sklearn-color-fitted-level-2);\n",
       "}\n",
       "\n",
       "/* Specification for estimator info (e.g. \"i\" and \"?\") */\n",
       "\n",
       "/* Common style for \"i\" and \"?\" */\n",
       "\n",
       ".sk-estimator-doc-link,\n",
       "a:link.sk-estimator-doc-link,\n",
       "a:visited.sk-estimator-doc-link {\n",
       "  float: right;\n",
       "  font-size: smaller;\n",
       "  line-height: 1em;\n",
       "  font-family: monospace;\n",
       "  background-color: var(--sklearn-color-background);\n",
       "  border-radius: 1em;\n",
       "  height: 1em;\n",
       "  width: 1em;\n",
       "  text-decoration: none !important;\n",
       "  margin-left: 0.5em;\n",
       "  text-align: center;\n",
       "  /* unfitted */\n",
       "  border: var(--sklearn-color-unfitted-level-1) 1pt solid;\n",
       "  color: var(--sklearn-color-unfitted-level-1);\n",
       "}\n",
       "\n",
       ".sk-estimator-doc-link.fitted,\n",
       "a:link.sk-estimator-doc-link.fitted,\n",
       "a:visited.sk-estimator-doc-link.fitted {\n",
       "  /* fitted */\n",
       "  border: var(--sklearn-color-fitted-level-1) 1pt solid;\n",
       "  color: var(--sklearn-color-fitted-level-1);\n",
       "}\n",
       "\n",
       "/* On hover */\n",
       "div.sk-estimator:hover .sk-estimator-doc-link:hover,\n",
       ".sk-estimator-doc-link:hover,\n",
       "div.sk-label-container:hover .sk-estimator-doc-link:hover,\n",
       ".sk-estimator-doc-link:hover {\n",
       "  /* unfitted */\n",
       "  background-color: var(--sklearn-color-unfitted-level-3);\n",
       "  color: var(--sklearn-color-background);\n",
       "  text-decoration: none;\n",
       "}\n",
       "\n",
       "div.sk-estimator.fitted:hover .sk-estimator-doc-link.fitted:hover,\n",
       ".sk-estimator-doc-link.fitted:hover,\n",
       "div.sk-label-container:hover .sk-estimator-doc-link.fitted:hover,\n",
       ".sk-estimator-doc-link.fitted:hover {\n",
       "  /* fitted */\n",
       "  background-color: var(--sklearn-color-fitted-level-3);\n",
       "  color: var(--sklearn-color-background);\n",
       "  text-decoration: none;\n",
       "}\n",
       "\n",
       "/* Span, style for the box shown on hovering the info icon */\n",
       ".sk-estimator-doc-link span {\n",
       "  display: none;\n",
       "  z-index: 9999;\n",
       "  position: relative;\n",
       "  font-weight: normal;\n",
       "  right: .2ex;\n",
       "  padding: .5ex;\n",
       "  margin: .5ex;\n",
       "  width: min-content;\n",
       "  min-width: 20ex;\n",
       "  max-width: 50ex;\n",
       "  color: var(--sklearn-color-text);\n",
       "  box-shadow: 2pt 2pt 4pt #999;\n",
       "  /* unfitted */\n",
       "  background: var(--sklearn-color-unfitted-level-0);\n",
       "  border: .5pt solid var(--sklearn-color-unfitted-level-3);\n",
       "}\n",
       "\n",
       ".sk-estimator-doc-link.fitted span {\n",
       "  /* fitted */\n",
       "  background: var(--sklearn-color-fitted-level-0);\n",
       "  border: var(--sklearn-color-fitted-level-3);\n",
       "}\n",
       "\n",
       ".sk-estimator-doc-link:hover span {\n",
       "  display: block;\n",
       "}\n",
       "\n",
       "/* \"?\"-specific style due to the `<a>` HTML tag */\n",
       "\n",
       "#sk-container-id-1 a.estimator_doc_link {\n",
       "  float: right;\n",
       "  font-size: 1rem;\n",
       "  line-height: 1em;\n",
       "  font-family: monospace;\n",
       "  background-color: var(--sklearn-color-background);\n",
       "  border-radius: 1rem;\n",
       "  height: 1rem;\n",
       "  width: 1rem;\n",
       "  text-decoration: none;\n",
       "  /* unfitted */\n",
       "  color: var(--sklearn-color-unfitted-level-1);\n",
       "  border: var(--sklearn-color-unfitted-level-1) 1pt solid;\n",
       "}\n",
       "\n",
       "#sk-container-id-1 a.estimator_doc_link.fitted {\n",
       "  /* fitted */\n",
       "  border: var(--sklearn-color-fitted-level-1) 1pt solid;\n",
       "  color: var(--sklearn-color-fitted-level-1);\n",
       "}\n",
       "\n",
       "/* On hover */\n",
       "#sk-container-id-1 a.estimator_doc_link:hover {\n",
       "  /* unfitted */\n",
       "  background-color: var(--sklearn-color-unfitted-level-3);\n",
       "  color: var(--sklearn-color-background);\n",
       "  text-decoration: none;\n",
       "}\n",
       "\n",
       "#sk-container-id-1 a.estimator_doc_link.fitted:hover {\n",
       "  /* fitted */\n",
       "  background-color: var(--sklearn-color-fitted-level-3);\n",
       "}\n",
       "</style><div id=\"sk-container-id-1\" class=\"sk-top-container\"><div class=\"sk-text-repr-fallback\"><pre>LinearRegression()</pre><b>In a Jupyter environment, please rerun this cell to show the HTML representation or trust the notebook. <br />On GitHub, the HTML representation is unable to render, please try loading this page with nbviewer.org.</b></div><div class=\"sk-container\" hidden><div class=\"sk-item\"><div class=\"sk-estimator fitted sk-toggleable\"><input class=\"sk-toggleable__control sk-hidden--visually\" id=\"sk-estimator-id-1\" type=\"checkbox\" checked><label for=\"sk-estimator-id-1\" class=\"sk-toggleable__label fitted sk-toggleable__label-arrow\"><div><div>LinearRegression</div></div><div><a class=\"sk-estimator-doc-link fitted\" rel=\"noreferrer\" target=\"_blank\" href=\"https://scikit-learn.org/1.6/modules/generated/sklearn.linear_model.LinearRegression.html\">?<span>Documentation for LinearRegression</span></a><span class=\"sk-estimator-doc-link fitted\">i<span>Fitted</span></span></div></label><div class=\"sk-toggleable__content fitted\"><pre>LinearRegression()</pre></div> </div></div></div></div>"
      ],
      "text/plain": [
       "LinearRegression()"
      ]
     },
     "execution_count": 11,
     "metadata": {},
     "output_type": "execute_result"
    }
   ],
   "source": [
    "# step 6:- pick a linear regression model\n",
    "\n",
    "from sklearn.linear_model import LinearRegression\n",
    "lr_1 = LinearRegression()\n",
    "lr_1.fit(df3_train_set,df3_train_target)"
   ]
  },
  {
   "cell_type": "code",
   "execution_count": 12,
   "id": "974431de-4d94-403f-8e8c-734bca0f40e7",
   "metadata": {},
   "outputs": [],
   "source": [
    "# step 7:- predict of training data\n",
    "\n",
    "predictions=lr_1.predict(df3_train_set)"
   ]
  },
  {
   "cell_type": "code",
   "execution_count": 13,
   "id": "0ab945c1-a0f3-42f0-a0a1-027f55387105",
   "metadata": {},
   "outputs": [
    {
     "data": {
      "text/plain": [
       "68463.95973646687"
      ]
     },
     "execution_count": 13,
     "metadata": {},
     "output_type": "execute_result"
    }
   ],
   "source": [
    "# step 8:- Compute RMSE of training data\n",
    "# Compute loss on training data\n",
    "from sklearn.metrics import root_mean_squared_error\n",
    "# compute error on training dataset\n",
    "train_error = root_mean_squared_error(df3_train_target, lr_1.predict(df3_train_set) )\n",
    "train_error"
   ]
  },
  {
   "cell_type": "code",
   "execution_count": 14,
   "id": "5388fc8c-1a31-4a04-be52-122ea24672fb",
   "metadata": {},
   "outputs": [],
   "source": [
    "# step 9:- predict of test data\n",
    "predictions_on_unseen_data=lr_1.predict(df3_test_set)"
   ]
  },
  {
   "cell_type": "code",
   "execution_count": 15,
   "id": "fa4e4eba-37bb-4a37-847f-33e35565193e",
   "metadata": {},
   "outputs": [
    {
     "data": {
      "text/plain": [
       "69753.90442145194"
      ]
     },
     "execution_count": 15,
     "metadata": {},
     "output_type": "execute_result"
    }
   ],
   "source": [
    "# step 10:- Compute RMSE of test data\n",
    "\n",
    "# compute error on test dataset\n",
    "test_error = root_mean_squared_error(df3_test_target, lr_1.predict(df3_test_set) )\n",
    "test_error #"
   ]
  },
  {
   "cell_type": "code",
   "execution_count": 16,
   "id": "8330a872-7481-4065-a7b4-d03da5366920",
   "metadata": {},
   "outputs": [
    {
     "data": {
      "text/plain": [
       "(49548.924647921645, 50723.92558842869)"
      ]
     },
     "execution_count": 16,
     "metadata": {},
     "output_type": "execute_result"
    }
   ],
   "source": [
    "from sklearn.metrics import mean_absolute_error\n",
    "mae_train= mean_absolute_error(df3_train_target, lr_1.predict(df3_train_set) )\n",
    "mae_test = mean_absolute_error(df3_test_target, lr_1.predict(df3_test_set) )\n",
    "mae_train, mae_test #"
   ]
  },
  {
   "cell_type": "markdown",
   "id": "7d846b8d-e20f-43d5-94ff-2b1e4fc07eaa",
   "metadata": {},
   "source": [
    "# Lab 8"
   ]
  },
  {
   "cell_type": "code",
   "execution_count": 19,
   "id": "4b4a1aa7-8779-436c-8b5a-2a92992a2015",
   "metadata": {},
   "outputs": [],
   "source": [
    "# step 4:- split data into train and test sets\n",
    "\n",
    "from sklearn.model_selection import train_test_split\n",
    "df3_train,df3_test=train_test_split(df3,test_size=0.2, random_state=42)\n",
    "df3_train.shape, df3_test.shape\n",
    "\n",
    "df3_train['ocean_proximity_INLAND'] .value_counts()/df3_train.shape[0]\n",
    "df3_test['ocean_proximity_INLAND'].value_counts()/df3_test.shape[0]\n",
    "\n",
    "# step 5:- separate target feature\n",
    "df3_train_target = df3_train['median_house_value']\n",
    "df3_train_set = df3_train.drop('median_house_value',axis=1)\n",
    "df3_test_target = df3_test['median_house_value']\n",
    "df3_test_set = df3_test.drop('median_house_value',axis=1)\n",
    "df3_train_set.columns\n",
    "\n",
    "# step 6:- pick a linear regression model\n",
    "from sklearn.linear_model import LinearRegression\n",
    "lr_1 = LinearRegression()\n",
    "lr_1.fit(df3_train_set,df3_train_target)\n",
    "\n",
    "# step 7:- predict of training data\n",
    "predictions = lr_1.predict(df3_train_set)"
   ]
  },
  {
   "cell_type": "code",
   "execution_count": 20,
   "id": "42da0c49-9f59-49d2-9c6d-e91f9353d515",
   "metadata": {},
   "outputs": [
    {
     "data": {
      "text/plain": [
       "(49548.924647921645, 50723.92558842869)"
      ]
     },
     "execution_count": 20,
     "metadata": {},
     "output_type": "execute_result"
    }
   ],
   "source": [
    "# step 8:- Compute RMSE of training data\n",
    "from sklearn.metrics import root_mean_squared_error\n",
    "train_error = root_mean_squared_error(df3_train_target, lr_1.predict(df3_train_set))\n",
    "train_error\n",
    "\n",
    "# step 9:- predict of test data\n",
    "predictions_on_unseen_data = lr_1.predict(df3_test_set)\n",
    "\n",
    "# step 10:- Compute RMSE of test data\n",
    "test_error = root_mean_squared_error(df3_test_target, lr_1.predict(df3_test_set))\n",
    "test_error\n",
    "\n",
    "from sklearn.metrics import mean_absolute_error\n",
    "mae_train = mean_absolute_error(df3_train_target, lr_1.predict(df3_train_set))\n",
    "mae_test = mean_absolute_error(df3_test_target, lr_1.predict(df3_test_set))\n",
    "mae_train, mae_test\n"
   ]
  },
  {
   "cell_type": "code",
   "execution_count": 21,
   "id": "32a74b81-a309-4a49-885e-2356a9fd2aef",
   "metadata": {},
   "outputs": [
    {
     "data": {
      "text/plain": [
       "68463.95973646686"
      ]
     },
     "execution_count": 21,
     "metadata": {},
     "output_type": "execute_result"
    }
   ],
   "source": [
    "# First attempt without changing any feature\n",
    "\n",
    "# Attempt 1: Using MinMaxScaler\n",
    "from sklearn.preprocessing import MinMaxScaler\n",
    "mmscaler = MinMaxScaler()\n",
    "mmscaler.fit(df3_train_set)\n",
    "mmscaler.data_min_, mmscaler.data_max_\n",
    "\n",
    "df3_train_sc = mmscaler.transform(df3_train_set)\n",
    "type(df3_train_sc)\n",
    "df3_train_sc.shape\n",
    "\n",
    "lr_mmsc = LinearRegression()\n",
    "lr_mmsc.fit(df3_train_sc, df3_train_target)\n",
    "train_error_mmsc = root_mean_squared_error(df3_train_target, lr_mmsc.predict(df3_train_sc))\n",
    "train_error_mmsc\n"
   ]
  },
  {
   "cell_type": "code",
   "execution_count": 22,
   "id": "92910a82-5b81-4e10-8404-4de0291de94d",
   "metadata": {},
   "outputs": [
    {
     "data": {
      "text/plain": [
       "68463.95973646687"
      ]
     },
     "execution_count": 22,
     "metadata": {},
     "output_type": "execute_result"
    }
   ],
   "source": [
    "# Attempt 2: Using StandardScaler\n",
    "from sklearn.preprocessing import StandardScaler\n",
    "stsc = StandardScaler()\n",
    "df3_train_std_sc = stsc.fit_transform(df3_train_set)\n",
    "\n",
    "lr_stsc = LinearRegression()\n",
    "lr_stsc.fit(df3_train_std_sc, df3_train_target)\n",
    "train_error_std_sc = root_mean_squared_error(df3_train_target, lr_stsc.predict(df3_train_std_sc))\n",
    "train_error_std_sc\n"
   ]
  },
  {
   "cell_type": "code",
   "execution_count": 23,
   "id": "bbff96e5-500f-40ed-9060-75d9dc1de2e2",
   "metadata": {},
   "outputs": [
    {
     "data": {
      "text/plain": [
       "70691.03915618548"
      ]
     },
     "execution_count": 23,
     "metadata": {},
     "output_type": "execute_result"
    }
   ],
   "source": [
    "# Attempt 3: Feature Engineering\n",
    "\n",
    "df3.corr()['median_house_value'].sort_values(ascending=False)\n",
    "\n",
    "df3['rooms_per_household'] = df3['total_rooms'] / df3['households']\n",
    "df3['bedrooms_per_room'] = df3['total_bedrooms'] / df3['total_rooms']\n",
    "df3['population_per_household'] = df3['population'] / df3['households']\n",
    "\n",
    "df3.corr()['median_house_value'].sort_values(ascending=False)\n",
    "\n",
    "df4_FE = df3.drop(['total_rooms', 'total_bedrooms', 'population'], axis=1)\n",
    "df4_FE_train, df4_FE_test = train_test_split(df4_FE, test_size=0.2, random_state=42)\n",
    "df4_FE_target = df4_FE_train['median_house_value']\n",
    "df4_FE_train_set = df4_FE_train.drop(['median_house_value'], axis=1)\n",
    "\n",
    "lr_FE = LinearRegression()\n",
    "lr_FE.fit(df4_FE_train_set, df4_FE_target)\n",
    "FE_train_error = root_mean_squared_error(df4_FE_target, lr_FE.predict(df4_FE_train_set))\n",
    "FE_train_error\n",
    "\n",
    "FE_mmscaler = MinMaxScaler()\n",
    "df4_FE_train_sc = FE_mmscaler.fit_transform(df4_FE_train_set)\n",
    "df4_FE_train_sc[:5]\n",
    "\n",
    "lr_FE_mmc = LinearRegression()\n",
    "lr_FE_mmc.fit(df4_FE_train_sc, df4_FE_target)\n",
    "FE_mmc_train_error = root_mean_squared_error(df4_FE_target, lr_FE_mmc.predict(df4_FE_train_sc))\n",
    "FE_mmc_train_error\n"
   ]
  },
  {
   "cell_type": "code",
   "execution_count": 25,
   "id": "8273f6ef-ad43-4907-9efe-c633a6e00def",
   "metadata": {},
   "outputs": [
    {
     "data": {
      "image/png": "[encoded data removed]",
      "text/plain": [
       "<Figure size 640x480 with 1 Axes>"
      ]
     },
     "metadata": {},
     "output_type": "display_data"
    }
   ],
   "source": [
    "# Apply lower limit as well\n",
    "\n",
    "df3_no_outlier = df3.copy()\n",
    "\n",
    "# Upper limits\n",
    "upper_limit_bedrooms = df3['total_bedrooms'].mean() + 1.5 * df3['total_bedrooms'].std()\n",
    "upper_limit_rooms = df3['total_rooms'].mean() + 1.5 * df3['total_rooms'].std()\n",
    "upper_limit_population = df3['population'].mean() + 1.5 * df3['population'].std()\n",
    "upper_limit_households = df3['households'].mean() + 1.5 * df3['households'].std()\n",
    "\n",
    "# Lower limits\n",
    "lower_limit_bedrooms = df3['total_bedrooms'].mean() - 3 * df3['total_bedrooms'].std()\n",
    "lower_limit_rooms = df3['total_rooms'].mean() - 3 * df3['total_rooms'].std()\n",
    "lower_limit_population = df3['population'].mean() - 3 * df3['population'].std()\n",
    "lower_limit_households = df3['households'].mean() - 3 * df3['households'].std()\n",
    "\n",
    "# Apply limits (sample fixup shown; original OCR had syntax issues)\n",
    "df3_no_outlier.loc[df3_no_outlier['total_bedrooms'] > upper_limit_bedrooms, 'total_bedrooms'] = upper_limit_bedrooms\n",
    "# ... (repeated for other columns)\n",
    "\n",
    "import seaborn as sns\n",
    "sns.boxplot(df3_no_outlier[['housing_median_age', 'total_rooms', 'total_bedrooms', 'population', 'households', 'median_income']])\n",
    "\n",
    "df3_no_outlier_train, df3_no_outlier_test = train_test_split(df3_no_outlier, test_size=0.2, random_state=42)\n",
    "df3_no_outlier_train_target = df3_no_outlier_train['median_house_value']\n",
    "df3_no_outlier_train_set = df3_no_outlier_train.drop('median_house_value', axis=1)\n",
    "df3_no_outlier_test_target = df3_no_outlier_test['median_house_value']\n",
    "df3_no_outlier_test_set = df3_no_outlier_test.drop('median_house_value', axis=1)\n"
   ]
  },
  {
   "cell_type": "code",
   "execution_count": 26,
   "id": "15839495-0fbb-417d-9a04-612b66e4be14",
   "metadata": {},
   "outputs": [
    {
     "data": {
      "text/plain": [
       "68937.40135248547"
      ]
     },
     "execution_count": 26,
     "metadata": {},
     "output_type": "execute_result"
    }
   ],
   "source": [
    "lr_no_outlier = LinearRegression()\n",
    "lr_no_outlier.fit(df3_no_outlier_train_set, df3_no_outlier_train_target)\n",
    "\n",
    "error_no_outlier_train = root_mean_squared_error(df3_no_outlier_train_target, lr_no_outlier.predict(df3_no_outlier_train_set))\n",
    "error_no_outlier_train\n",
    "\n",
    "# Error on test set\n",
    "error_no_outlier_test = root_mean_squared_error(df3_no_outlier_test_target, lr_no_outlier.predict(df3_no_outlier_test_set))\n",
    "error_no_outlier_test\n"
   ]
  }
 ],
 "metadata": {
  "kernelspec": {
   "display_name": "Python 3 (ipykernel)",
   "language": "python",
   "name": "python3"
  },
  "language_info": {
   "codemirror_mode": {
    "name": "ipython",
    "version": 3
   },
   "file_extension": ".py",
   "mimetype": "text/x-python",
   "name": "python",
   "nbconvert_exporter": "python",
   "pygments_lexer": "ipython3",
   "version": "3.13.1"
  }
 },
 "nbformat": 4,
 "nbformat_minor": 5
}
