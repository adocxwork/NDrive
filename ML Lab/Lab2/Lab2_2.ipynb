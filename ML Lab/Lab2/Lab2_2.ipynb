{
 "cells": [
  {
   "cell_type": "markdown",
   "id": "7917867e-eb16-4239-a27e-c6a57df3943f",
   "metadata": {},
   "source": [
    "## Vector Operations"
   ]
  },
  {
   "cell_type": "code",
   "execution_count": 2,
   "id": "83c227ad-dc8e-46ee-8660-0623091d0d7b",
   "metadata": {},
   "outputs": [],
   "source": [
    "import numpy as np"
   ]
  },
  {
   "cell_type": "code",
   "execution_count": 3,
   "id": "b64e3b39-3812-42d2-9e6c-4e5e2f93c686",
   "metadata": {},
   "outputs": [],
   "source": [
    "marks = np.array([65,82,91,55,90,85])"
   ]
  },
  {
   "cell_type": "code",
   "execution_count": 4,
   "id": "e6ee9e1c-e264-4626-a94d-461d05acfbf9",
   "metadata": {},
   "outputs": [],
   "source": [
    "bonus_marks = np.array([1,3,5,0,2,1])"
   ]
  },
  {
   "cell_type": "code",
   "execution_count": 6,
   "id": "5b2ad4c3-fb20-4858-b1ad-98520f3714b6",
   "metadata": {},
   "outputs": [],
   "source": [
    "final_marks = marks + bonus_marks"
   ]
  },
  {
   "cell_type": "markdown",
   "id": "02160571-f4ac-4710-91d9-d459ec1a0472",
   "metadata": {},
   "source": [
    "## Broadcast"
   ]
  },
  {
   "cell_type": "code",
   "execution_count": 8,
   "id": "5cadb48f-5d9a-4d6b-9946-68c1b738b253",
   "metadata": {},
   "outputs": [],
   "source": [
    "arr = np.array([5,10,15])"
   ]
  },
  {
   "cell_type": "code",
   "execution_count": 9,
   "id": "f14b08c5-4b51-434c-9028-40b83b1e7309",
   "metadata": {},
   "outputs": [],
   "source": [
    "brr = np.array([6])"
   ]
  },
  {
   "cell_type": "code",
   "execution_count": 10,
   "id": "b197aa22-8a1c-423b-82e8-03b0309ec0dc",
   "metadata": {},
   "outputs": [],
   "source": [
    "crr = arr * brr"
   ]
  },
  {
   "cell_type": "code",
   "execution_count": 11,
   "id": "48bc6f02-2bb5-4fb7-bb2f-53ecb426518f",
   "metadata": {},
   "outputs": [
    {
     "data": {
      "text/plain": [
       "array([30, 60, 90])"
      ]
     },
     "execution_count": 11,
     "metadata": {},
     "output_type": "execute_result"
    }
   ],
   "source": [
    "crr"
   ]
  },
  {
   "cell_type": "markdown",
   "id": "5d116840-cb88-4fab-b3d7-a27924086b96",
   "metadata": {},
   "source": [
    "## Linspace"
   ]
  },
  {
   "cell_type": "code",
   "execution_count": 12,
   "id": "6682f28c-ab9c-40cc-aff7-fe47b93a6d6b",
   "metadata": {},
   "outputs": [],
   "source": [
    "arr = np.linspace(0,10)"
   ]
  },
  {
   "cell_type": "code",
   "execution_count": 13,
   "id": "b8c9c634-c323-4fff-99ef-e81efddeb53c",
   "metadata": {},
   "outputs": [
    {
     "name": "stdout",
     "output_type": "stream",
     "text": [
      "[ 0.          0.20408163  0.40816327  0.6122449   0.81632653  1.02040816\n",
      "  1.2244898   1.42857143  1.63265306  1.83673469  2.04081633  2.24489796\n",
      "  2.44897959  2.65306122  2.85714286  3.06122449  3.26530612  3.46938776\n",
      "  3.67346939  3.87755102  4.08163265  4.28571429  4.48979592  4.69387755\n",
      "  4.89795918  5.10204082  5.30612245  5.51020408  5.71428571  5.91836735\n",
      "  6.12244898  6.32653061  6.53061224  6.73469388  6.93877551  7.14285714\n",
      "  7.34693878  7.55102041  7.75510204  7.95918367  8.16326531  8.36734694\n",
      "  8.57142857  8.7755102   8.97959184  9.18367347  9.3877551   9.59183673\n",
      "  9.79591837 10.        ]\n"
     ]
    }
   ],
   "source": [
    "print(arr)"
   ]
  },
  {
   "cell_type": "code",
   "execution_count": 18,
   "id": "32e24034-7307-4eb5-a44a-4801f85fd9e1",
   "metadata": {},
   "outputs": [
    {
     "name": "stdout",
     "output_type": "stream",
     "text": [
      "Length of arr:  50\n"
     ]
    }
   ],
   "source": [
    "print('Length of arr: ', len(arr))"
   ]
  },
  {
   "cell_type": "code",
   "execution_count": 19,
   "id": "06e105dd-bfa1-4dae-b334-aa037dcaed8b",
   "metadata": {},
   "outputs": [],
   "source": [
    "brr = np.linspace(0,10,3)"
   ]
  },
  {
   "cell_type": "code",
   "execution_count": 20,
   "id": "03330dd2-e4aa-43ea-927a-afe49967df4b",
   "metadata": {},
   "outputs": [
    {
     "name": "stdout",
     "output_type": "stream",
     "text": [
      "[ 0.  5. 10.]\n"
     ]
    }
   ],
   "source": [
    "print(brr)"
   ]
  },
  {
   "cell_type": "code",
   "execution_count": 21,
   "id": "ddb3862f-9ffa-4c19-a2ef-e95f0c2a8e71",
   "metadata": {},
   "outputs": [
    {
     "name": "stdout",
     "output_type": "stream",
     "text": [
      "Length of brr 3\n"
     ]
    }
   ],
   "source": [
    "print('Length of brr', len(brr))"
   ]
  }
 ],
 "metadata": {
  "kernelspec": {
   "display_name": "Python 3 (ipykernel)",
   "language": "python",
   "name": "python3"
  },
  "language_info": {
   "codemirror_mode": {
    "name": "ipython",
    "version": 3
   },
   "file_extension": ".py",
   "mimetype": "text/x-python",
   "name": "python",
   "nbconvert_exporter": "python",
   "pygments_lexer": "ipython3",
   "version": "3.10.11"
  }
 },
 "nbformat": 4,
 "nbformat_minor": 5
}
